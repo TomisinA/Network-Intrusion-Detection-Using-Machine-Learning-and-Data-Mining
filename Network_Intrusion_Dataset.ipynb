{
  "cells": [
    {
      "cell_type": "markdown",
      "metadata": {
        "id": "view-in-github",
        "colab_type": "text"
      },
      "source": [
        "<a href=\"https://colab.research.google.com/github/TomisinA/Network-Intrusion-Detection-Using-Machine-Learning-and-Data-Mining/blob/main/Network_Intrusion_Dataset.ipynb\" target=\"_parent\"><img src=\"https://colab.research.google.com/assets/colab-badge.svg\" alt=\"Open In Colab\"/></a>"
      ]
    },
    {
      "cell_type": "markdown",
      "metadata": {
        "id": "426hbFYQcZBc"
      },
      "source": [
        "# Importing the Dataset"
      ]
    },
    {
      "cell_type": "code",
      "execution_count": null,
      "metadata": {
        "id": "x83d_ObSSpME"
      },
      "outputs": [],
      "source": [
        "import pandas as pd\n",
        "import numpy as np\n",
        "import matplotlib.pyplot as plt\n",
        "from sklearn.preprocessing import OneHotEncoder, LabelEncoder\n",
        "import warnings\n",
        "warnings.filterwarnings('ignore')\n",
        "import seaborn as sns\n",
        "from scipy import stats\n",
        "from sklearn.preprocessing import *\n",
        "from sklearn. metrics import *\n",
        "from sklearn.model_selection import train_test_split\n",
        "from sklearn.linear_model import LogisticRegression\n",
        "from sklearn.metrics import accuracy_score\n",
        "from sklearn.metrics import classification_report\n",
        "from sklearn.neighbors import KNeighborsClassifier\n",
        "from sklearn.metrics import confusion_matrix\n",
        "from sklearn.svm import SVC\n",
        "from sklearn.ensemble import RandomForestClassifier\n",
        "from sklearn.tree import DecisionTreeClassifier"
      ]
    },
    {
      "cell_type": "code",
      "execution_count": null,
      "metadata": {
        "id": "khu_FcObTywR"
      },
      "outputs": [],
      "source": [
        "dataset = pd.read_csv('UNR-IDD.csv')"
      ]
    },
    {
      "cell_type": "code",
      "execution_count": null,
      "metadata": {
        "colab": {
          "base_uri": "https://localhost:8080/"
        },
        "id": "UnI5M4WuUGoy",
        "outputId": "67eddf41-3e8f-4772-9b6d-a3d8d66a4711"
      },
      "outputs": [
        {
          "output_type": "execute_result",
          "data": {
            "text/plain": [
              "             Switch ID Port Number  Received Packets  Received Bytes  \\\n",
              "0  of:000000000000000c     Port#:1               132            9181   \n",
              "1  of:000000000000000c     Port#:2               187         6304498   \n",
              "2  of:000000000000000c     Port#:3               235         6311567   \n",
              "3  of:000000000000000c     Port#:4                59            7878   \n",
              "4  of:000000000000000a     Port#:1               188         6304547   \n",
              "\n",
              "   Sent Bytes  Sent Packets  Port alive Duration (S)  Packets Rx Dropped  \\\n",
              "0     6311853           238                       46                   0   \n",
              "1       15713           171                       46                   0   \n",
              "2        8030            58                       46                   0   \n",
              "3       16439           182                       46                   0   \n",
              "4       16497           183                       46                   0   \n",
              "\n",
              "   Packets Tx Dropped  Packets Rx Errors  ...  Unknown Load/Latest  \\\n",
              "0                   0                  0  ...                    0   \n",
              "1                   0                  0  ...                    0   \n",
              "2                   0                  0  ...                    0   \n",
              "3                   0                  0  ...                    0   \n",
              "4                   0                  0  ...                    0   \n",
              "\n",
              "   Latest bytes counter  is_valid  Table ID  Active Flow Entries  \\\n",
              "0                     0      True         0                    9   \n",
              "1                     0      True         0                    9   \n",
              "2                     0      True         0                    9   \n",
              "3                     0      True         0                    9   \n",
              "4                     0      True         0                    7   \n",
              "\n",
              "   Packets Looked Up  Packets Matched  Max Size    Label  Binary Label  \n",
              "0                767              688        -1  TCP-SYN        Attack  \n",
              "1                767              688        -1  TCP-SYN        Attack  \n",
              "2                767              688        -1  TCP-SYN        Attack  \n",
              "3                767              688        -1  TCP-SYN        Attack  \n",
              "4                489              403        -1  TCP-SYN        Attack  \n",
              "\n",
              "[5 rows x 34 columns]"
            ],
            "text/html": [
              "\n",
              "  <div id=\"df-4a89121e-43cd-474a-998c-73be2290f92a\">\n",
              "    <div class=\"colab-df-container\">\n",
              "      <div>\n",
              "<style scoped>\n",
              "    .dataframe tbody tr th:only-of-type {\n",
              "        vertical-align: middle;\n",
              "    }\n",
              "\n",
              "    .dataframe tbody tr th {\n",
              "        vertical-align: top;\n",
              "    }\n",
              "\n",
              "    .dataframe thead th {\n",
              "        text-align: right;\n",
              "    }\n",
              "</style>\n",
              "<table border=\"1\" class=\"dataframe\">\n",
              "  <thead>\n",
              "    <tr style=\"text-align: right;\">\n",
              "      <th></th>\n",
              "      <th>Switch ID</th>\n",
              "      <th>Port Number</th>\n",
              "      <th>Received Packets</th>\n",
              "      <th>Received Bytes</th>\n",
              "      <th>Sent Bytes</th>\n",
              "      <th>Sent Packets</th>\n",
              "      <th>Port alive Duration (S)</th>\n",
              "      <th>Packets Rx Dropped</th>\n",
              "      <th>Packets Tx Dropped</th>\n",
              "      <th>Packets Rx Errors</th>\n",
              "      <th>...</th>\n",
              "      <th>Unknown Load/Latest</th>\n",
              "      <th>Latest bytes counter</th>\n",
              "      <th>is_valid</th>\n",
              "      <th>Table ID</th>\n",
              "      <th>Active Flow Entries</th>\n",
              "      <th>Packets Looked Up</th>\n",
              "      <th>Packets Matched</th>\n",
              "      <th>Max Size</th>\n",
              "      <th>Label</th>\n",
              "      <th>Binary Label</th>\n",
              "    </tr>\n",
              "  </thead>\n",
              "  <tbody>\n",
              "    <tr>\n",
              "      <th>0</th>\n",
              "      <td>of:000000000000000c</td>\n",
              "      <td>Port#:1</td>\n",
              "      <td>132</td>\n",
              "      <td>9181</td>\n",
              "      <td>6311853</td>\n",
              "      <td>238</td>\n",
              "      <td>46</td>\n",
              "      <td>0</td>\n",
              "      <td>0</td>\n",
              "      <td>0</td>\n",
              "      <td>...</td>\n",
              "      <td>0</td>\n",
              "      <td>0</td>\n",
              "      <td>True</td>\n",
              "      <td>0</td>\n",
              "      <td>9</td>\n",
              "      <td>767</td>\n",
              "      <td>688</td>\n",
              "      <td>-1</td>\n",
              "      <td>TCP-SYN</td>\n",
              "      <td>Attack</td>\n",
              "    </tr>\n",
              "    <tr>\n",
              "      <th>1</th>\n",
              "      <td>of:000000000000000c</td>\n",
              "      <td>Port#:2</td>\n",
              "      <td>187</td>\n",
              "      <td>6304498</td>\n",
              "      <td>15713</td>\n",
              "      <td>171</td>\n",
              "      <td>46</td>\n",
              "      <td>0</td>\n",
              "      <td>0</td>\n",
              "      <td>0</td>\n",
              "      <td>...</td>\n",
              "      <td>0</td>\n",
              "      <td>0</td>\n",
              "      <td>True</td>\n",
              "      <td>0</td>\n",
              "      <td>9</td>\n",
              "      <td>767</td>\n",
              "      <td>688</td>\n",
              "      <td>-1</td>\n",
              "      <td>TCP-SYN</td>\n",
              "      <td>Attack</td>\n",
              "    </tr>\n",
              "    <tr>\n",
              "      <th>2</th>\n",
              "      <td>of:000000000000000c</td>\n",
              "      <td>Port#:3</td>\n",
              "      <td>235</td>\n",
              "      <td>6311567</td>\n",
              "      <td>8030</td>\n",
              "      <td>58</td>\n",
              "      <td>46</td>\n",
              "      <td>0</td>\n",
              "      <td>0</td>\n",
              "      <td>0</td>\n",
              "      <td>...</td>\n",
              "      <td>0</td>\n",
              "      <td>0</td>\n",
              "      <td>True</td>\n",
              "      <td>0</td>\n",
              "      <td>9</td>\n",
              "      <td>767</td>\n",
              "      <td>688</td>\n",
              "      <td>-1</td>\n",
              "      <td>TCP-SYN</td>\n",
              "      <td>Attack</td>\n",
              "    </tr>\n",
              "    <tr>\n",
              "      <th>3</th>\n",
              "      <td>of:000000000000000c</td>\n",
              "      <td>Port#:4</td>\n",
              "      <td>59</td>\n",
              "      <td>7878</td>\n",
              "      <td>16439</td>\n",
              "      <td>182</td>\n",
              "      <td>46</td>\n",
              "      <td>0</td>\n",
              "      <td>0</td>\n",
              "      <td>0</td>\n",
              "      <td>...</td>\n",
              "      <td>0</td>\n",
              "      <td>0</td>\n",
              "      <td>True</td>\n",
              "      <td>0</td>\n",
              "      <td>9</td>\n",
              "      <td>767</td>\n",
              "      <td>688</td>\n",
              "      <td>-1</td>\n",
              "      <td>TCP-SYN</td>\n",
              "      <td>Attack</td>\n",
              "    </tr>\n",
              "    <tr>\n",
              "      <th>4</th>\n",
              "      <td>of:000000000000000a</td>\n",
              "      <td>Port#:1</td>\n",
              "      <td>188</td>\n",
              "      <td>6304547</td>\n",
              "      <td>16497</td>\n",
              "      <td>183</td>\n",
              "      <td>46</td>\n",
              "      <td>0</td>\n",
              "      <td>0</td>\n",
              "      <td>0</td>\n",
              "      <td>...</td>\n",
              "      <td>0</td>\n",
              "      <td>0</td>\n",
              "      <td>True</td>\n",
              "      <td>0</td>\n",
              "      <td>7</td>\n",
              "      <td>489</td>\n",
              "      <td>403</td>\n",
              "      <td>-1</td>\n",
              "      <td>TCP-SYN</td>\n",
              "      <td>Attack</td>\n",
              "    </tr>\n",
              "  </tbody>\n",
              "</table>\n",
              "<p>5 rows × 34 columns</p>\n",
              "</div>\n",
              "      <button class=\"colab-df-convert\" onclick=\"convertToInteractive('df-4a89121e-43cd-474a-998c-73be2290f92a')\"\n",
              "              title=\"Convert this dataframe to an interactive table.\"\n",
              "              style=\"display:none;\">\n",
              "        \n",
              "  <svg xmlns=\"http://www.w3.org/2000/svg\" height=\"24px\"viewBox=\"0 0 24 24\"\n",
              "       width=\"24px\">\n",
              "    <path d=\"M0 0h24v24H0V0z\" fill=\"none\"/>\n",
              "    <path d=\"M18.56 5.44l.94 2.06.94-2.06 2.06-.94-2.06-.94-.94-2.06-.94 2.06-2.06.94zm-11 1L8.5 8.5l.94-2.06 2.06-.94-2.06-.94L8.5 2.5l-.94 2.06-2.06.94zm10 10l.94 2.06.94-2.06 2.06-.94-2.06-.94-.94-2.06-.94 2.06-2.06.94z\"/><path d=\"M17.41 7.96l-1.37-1.37c-.4-.4-.92-.59-1.43-.59-.52 0-1.04.2-1.43.59L10.3 9.45l-7.72 7.72c-.78.78-.78 2.05 0 2.83L4 21.41c.39.39.9.59 1.41.59.51 0 1.02-.2 1.41-.59l7.78-7.78 2.81-2.81c.8-.78.8-2.07 0-2.86zM5.41 20L4 18.59l7.72-7.72 1.47 1.35L5.41 20z\"/>\n",
              "  </svg>\n",
              "      </button>\n",
              "      \n",
              "  <style>\n",
              "    .colab-df-container {\n",
              "      display:flex;\n",
              "      flex-wrap:wrap;\n",
              "      gap: 12px;\n",
              "    }\n",
              "\n",
              "    .colab-df-convert {\n",
              "      background-color: #E8F0FE;\n",
              "      border: none;\n",
              "      border-radius: 50%;\n",
              "      cursor: pointer;\n",
              "      display: none;\n",
              "      fill: #1967D2;\n",
              "      height: 32px;\n",
              "      padding: 0 0 0 0;\n",
              "      width: 32px;\n",
              "    }\n",
              "\n",
              "    .colab-df-convert:hover {\n",
              "      background-color: #E2EBFA;\n",
              "      box-shadow: 0px 1px 2px rgba(60, 64, 67, 0.3), 0px 1px 3px 1px rgba(60, 64, 67, 0.15);\n",
              "      fill: #174EA6;\n",
              "    }\n",
              "\n",
              "    [theme=dark] .colab-df-convert {\n",
              "      background-color: #3B4455;\n",
              "      fill: #D2E3FC;\n",
              "    }\n",
              "\n",
              "    [theme=dark] .colab-df-convert:hover {\n",
              "      background-color: #434B5C;\n",
              "      box-shadow: 0px 1px 3px 1px rgba(0, 0, 0, 0.15);\n",
              "      filter: drop-shadow(0px 1px 2px rgba(0, 0, 0, 0.3));\n",
              "      fill: #FFFFFF;\n",
              "    }\n",
              "  </style>\n",
              "\n",
              "      <script>\n",
              "        const buttonEl =\n",
              "          document.querySelector('#df-4a89121e-43cd-474a-998c-73be2290f92a button.colab-df-convert');\n",
              "        buttonEl.style.display =\n",
              "          google.colab.kernel.accessAllowed ? 'block' : 'none';\n",
              "\n",
              "        async function convertToInteractive(key) {\n",
              "          const element = document.querySelector('#df-4a89121e-43cd-474a-998c-73be2290f92a');\n",
              "          const dataTable =\n",
              "            await google.colab.kernel.invokeFunction('convertToInteractive',\n",
              "                                                     [key], {});\n",
              "          if (!dataTable) return;\n",
              "\n",
              "          const docLinkHtml = 'Like what you see? Visit the ' +\n",
              "            '<a target=\"_blank\" href=https://colab.research.google.com/notebooks/data_table.ipynb>data table notebook</a>'\n",
              "            + ' to learn more about interactive tables.';\n",
              "          element.innerHTML = '';\n",
              "          dataTable['output_type'] = 'display_data';\n",
              "          await google.colab.output.renderOutput(dataTable, element);\n",
              "          const docLink = document.createElement('div');\n",
              "          docLink.innerHTML = docLinkHtml;\n",
              "          element.appendChild(docLink);\n",
              "        }\n",
              "      </script>\n",
              "    </div>\n",
              "  </div>\n",
              "  "
            ]
          },
          "metadata": {},
          "execution_count": 137
        }
      ],
      "source": [
        "dataset.head()"
      ]
    },
    {
      "cell_type": "code",
      "execution_count": null,
      "metadata": {
        "colab": {
          "base_uri": "https://localhost:8080/"
        },
        "id": "ixamkqnfWV0_",
        "outputId": "d7b13697-3646-4f7f-8929-a5d990db6188"
      },
      "outputs": [
        {
          "output_type": "execute_result",
          "data": {
            "text/plain": [
              "                 Switch ID Port Number  Received Packets  Received Bytes  \\\n",
              "37406  of:0000000000000006     Port#:2               228           30195   \n",
              "37407  of:0000000000000006     Port#:3              1064        18962056   \n",
              "37408  of:0000000000000009     Port#:1              1042        25252012   \n",
              "37409  of:0000000000000009     Port#:2            149012        14360115   \n",
              "37410  of:0000000000000009     Port#:3               228           30377   \n",
              "\n",
              "       Sent Bytes  Sent Packets  Port alive Duration (S)  Packets Rx Dropped  \\\n",
              "37406     7857046        145141                      276                   0   \n",
              "37407       37732           338                      276                   0   \n",
              "37408     7856976        145140                      276                   0   \n",
              "37409       29509           211                      276                   0   \n",
              "37410    25258600          1138                      276                   0   \n",
              "\n",
              "       Packets Tx Dropped  Packets Rx Errors  ...  Unknown Load/Latest  \\\n",
              "37406                   0                  0  ...                    0   \n",
              "37407                   0                  0  ...                    0   \n",
              "37408                   0                  0  ...                    0   \n",
              "37409                   0                  0  ...                    0   \n",
              "37410                   0                  0  ...                    0   \n",
              "\n",
              "       Latest bytes counter  is_valid  Table ID  Active Flow Entries  \\\n",
              "37406                     0      True         0                    6   \n",
              "37407                     0      True         0                    6   \n",
              "37408                     0      True         0                    8   \n",
              "37409                     0      True         0                    8   \n",
              "37410                     0      True         0                    8   \n",
              "\n",
              "       Packets Looked Up  Packets Matched  Max Size     Label  Binary Label  \n",
              "37406             147563           147454        -1  PortScan        Attack  \n",
              "37407             147563           147454        -1  PortScan        Attack  \n",
              "37408             295511           295404        -1  PortScan        Attack  \n",
              "37409             295511           295404        -1  PortScan        Attack  \n",
              "37410             295511           295404        -1  PortScan        Attack  \n",
              "\n",
              "[5 rows x 34 columns]"
            ],
            "text/html": [
              "\n",
              "  <div id=\"df-66d1a616-cf62-41e6-8f00-b89f9242dbc1\">\n",
              "    <div class=\"colab-df-container\">\n",
              "      <div>\n",
              "<style scoped>\n",
              "    .dataframe tbody tr th:only-of-type {\n",
              "        vertical-align: middle;\n",
              "    }\n",
              "\n",
              "    .dataframe tbody tr th {\n",
              "        vertical-align: top;\n",
              "    }\n",
              "\n",
              "    .dataframe thead th {\n",
              "        text-align: right;\n",
              "    }\n",
              "</style>\n",
              "<table border=\"1\" class=\"dataframe\">\n",
              "  <thead>\n",
              "    <tr style=\"text-align: right;\">\n",
              "      <th></th>\n",
              "      <th>Switch ID</th>\n",
              "      <th>Port Number</th>\n",
              "      <th>Received Packets</th>\n",
              "      <th>Received Bytes</th>\n",
              "      <th>Sent Bytes</th>\n",
              "      <th>Sent Packets</th>\n",
              "      <th>Port alive Duration (S)</th>\n",
              "      <th>Packets Rx Dropped</th>\n",
              "      <th>Packets Tx Dropped</th>\n",
              "      <th>Packets Rx Errors</th>\n",
              "      <th>...</th>\n",
              "      <th>Unknown Load/Latest</th>\n",
              "      <th>Latest bytes counter</th>\n",
              "      <th>is_valid</th>\n",
              "      <th>Table ID</th>\n",
              "      <th>Active Flow Entries</th>\n",
              "      <th>Packets Looked Up</th>\n",
              "      <th>Packets Matched</th>\n",
              "      <th>Max Size</th>\n",
              "      <th>Label</th>\n",
              "      <th>Binary Label</th>\n",
              "    </tr>\n",
              "  </thead>\n",
              "  <tbody>\n",
              "    <tr>\n",
              "      <th>37406</th>\n",
              "      <td>of:0000000000000006</td>\n",
              "      <td>Port#:2</td>\n",
              "      <td>228</td>\n",
              "      <td>30195</td>\n",
              "      <td>7857046</td>\n",
              "      <td>145141</td>\n",
              "      <td>276</td>\n",
              "      <td>0</td>\n",
              "      <td>0</td>\n",
              "      <td>0</td>\n",
              "      <td>...</td>\n",
              "      <td>0</td>\n",
              "      <td>0</td>\n",
              "      <td>True</td>\n",
              "      <td>0</td>\n",
              "      <td>6</td>\n",
              "      <td>147563</td>\n",
              "      <td>147454</td>\n",
              "      <td>-1</td>\n",
              "      <td>PortScan</td>\n",
              "      <td>Attack</td>\n",
              "    </tr>\n",
              "    <tr>\n",
              "      <th>37407</th>\n",
              "      <td>of:0000000000000006</td>\n",
              "      <td>Port#:3</td>\n",
              "      <td>1064</td>\n",
              "      <td>18962056</td>\n",
              "      <td>37732</td>\n",
              "      <td>338</td>\n",
              "      <td>276</td>\n",
              "      <td>0</td>\n",
              "      <td>0</td>\n",
              "      <td>0</td>\n",
              "      <td>...</td>\n",
              "      <td>0</td>\n",
              "      <td>0</td>\n",
              "      <td>True</td>\n",
              "      <td>0</td>\n",
              "      <td>6</td>\n",
              "      <td>147563</td>\n",
              "      <td>147454</td>\n",
              "      <td>-1</td>\n",
              "      <td>PortScan</td>\n",
              "      <td>Attack</td>\n",
              "    </tr>\n",
              "    <tr>\n",
              "      <th>37408</th>\n",
              "      <td>of:0000000000000009</td>\n",
              "      <td>Port#:1</td>\n",
              "      <td>1042</td>\n",
              "      <td>25252012</td>\n",
              "      <td>7856976</td>\n",
              "      <td>145140</td>\n",
              "      <td>276</td>\n",
              "      <td>0</td>\n",
              "      <td>0</td>\n",
              "      <td>0</td>\n",
              "      <td>...</td>\n",
              "      <td>0</td>\n",
              "      <td>0</td>\n",
              "      <td>True</td>\n",
              "      <td>0</td>\n",
              "      <td>8</td>\n",
              "      <td>295511</td>\n",
              "      <td>295404</td>\n",
              "      <td>-1</td>\n",
              "      <td>PortScan</td>\n",
              "      <td>Attack</td>\n",
              "    </tr>\n",
              "    <tr>\n",
              "      <th>37409</th>\n",
              "      <td>of:0000000000000009</td>\n",
              "      <td>Port#:2</td>\n",
              "      <td>149012</td>\n",
              "      <td>14360115</td>\n",
              "      <td>29509</td>\n",
              "      <td>211</td>\n",
              "      <td>276</td>\n",
              "      <td>0</td>\n",
              "      <td>0</td>\n",
              "      <td>0</td>\n",
              "      <td>...</td>\n",
              "      <td>0</td>\n",
              "      <td>0</td>\n",
              "      <td>True</td>\n",
              "      <td>0</td>\n",
              "      <td>8</td>\n",
              "      <td>295511</td>\n",
              "      <td>295404</td>\n",
              "      <td>-1</td>\n",
              "      <td>PortScan</td>\n",
              "      <td>Attack</td>\n",
              "    </tr>\n",
              "    <tr>\n",
              "      <th>37410</th>\n",
              "      <td>of:0000000000000009</td>\n",
              "      <td>Port#:3</td>\n",
              "      <td>228</td>\n",
              "      <td>30377</td>\n",
              "      <td>25258600</td>\n",
              "      <td>1138</td>\n",
              "      <td>276</td>\n",
              "      <td>0</td>\n",
              "      <td>0</td>\n",
              "      <td>0</td>\n",
              "      <td>...</td>\n",
              "      <td>0</td>\n",
              "      <td>0</td>\n",
              "      <td>True</td>\n",
              "      <td>0</td>\n",
              "      <td>8</td>\n",
              "      <td>295511</td>\n",
              "      <td>295404</td>\n",
              "      <td>-1</td>\n",
              "      <td>PortScan</td>\n",
              "      <td>Attack</td>\n",
              "    </tr>\n",
              "  </tbody>\n",
              "</table>\n",
              "<p>5 rows × 34 columns</p>\n",
              "</div>\n",
              "      <button class=\"colab-df-convert\" onclick=\"convertToInteractive('df-66d1a616-cf62-41e6-8f00-b89f9242dbc1')\"\n",
              "              title=\"Convert this dataframe to an interactive table.\"\n",
              "              style=\"display:none;\">\n",
              "        \n",
              "  <svg xmlns=\"http://www.w3.org/2000/svg\" height=\"24px\"viewBox=\"0 0 24 24\"\n",
              "       width=\"24px\">\n",
              "    <path d=\"M0 0h24v24H0V0z\" fill=\"none\"/>\n",
              "    <path d=\"M18.56 5.44l.94 2.06.94-2.06 2.06-.94-2.06-.94-.94-2.06-.94 2.06-2.06.94zm-11 1L8.5 8.5l.94-2.06 2.06-.94-2.06-.94L8.5 2.5l-.94 2.06-2.06.94zm10 10l.94 2.06.94-2.06 2.06-.94-2.06-.94-.94-2.06-.94 2.06-2.06.94z\"/><path d=\"M17.41 7.96l-1.37-1.37c-.4-.4-.92-.59-1.43-.59-.52 0-1.04.2-1.43.59L10.3 9.45l-7.72 7.72c-.78.78-.78 2.05 0 2.83L4 21.41c.39.39.9.59 1.41.59.51 0 1.02-.2 1.41-.59l7.78-7.78 2.81-2.81c.8-.78.8-2.07 0-2.86zM5.41 20L4 18.59l7.72-7.72 1.47 1.35L5.41 20z\"/>\n",
              "  </svg>\n",
              "      </button>\n",
              "      \n",
              "  <style>\n",
              "    .colab-df-container {\n",
              "      display:flex;\n",
              "      flex-wrap:wrap;\n",
              "      gap: 12px;\n",
              "    }\n",
              "\n",
              "    .colab-df-convert {\n",
              "      background-color: #E8F0FE;\n",
              "      border: none;\n",
              "      border-radius: 50%;\n",
              "      cursor: pointer;\n",
              "      display: none;\n",
              "      fill: #1967D2;\n",
              "      height: 32px;\n",
              "      padding: 0 0 0 0;\n",
              "      width: 32px;\n",
              "    }\n",
              "\n",
              "    .colab-df-convert:hover {\n",
              "      background-color: #E2EBFA;\n",
              "      box-shadow: 0px 1px 2px rgba(60, 64, 67, 0.3), 0px 1px 3px 1px rgba(60, 64, 67, 0.15);\n",
              "      fill: #174EA6;\n",
              "    }\n",
              "\n",
              "    [theme=dark] .colab-df-convert {\n",
              "      background-color: #3B4455;\n",
              "      fill: #D2E3FC;\n",
              "    }\n",
              "\n",
              "    [theme=dark] .colab-df-convert:hover {\n",
              "      background-color: #434B5C;\n",
              "      box-shadow: 0px 1px 3px 1px rgba(0, 0, 0, 0.15);\n",
              "      filter: drop-shadow(0px 1px 2px rgba(0, 0, 0, 0.3));\n",
              "      fill: #FFFFFF;\n",
              "    }\n",
              "  </style>\n",
              "\n",
              "      <script>\n",
              "        const buttonEl =\n",
              "          document.querySelector('#df-66d1a616-cf62-41e6-8f00-b89f9242dbc1 button.colab-df-convert');\n",
              "        buttonEl.style.display =\n",
              "          google.colab.kernel.accessAllowed ? 'block' : 'none';\n",
              "\n",
              "        async function convertToInteractive(key) {\n",
              "          const element = document.querySelector('#df-66d1a616-cf62-41e6-8f00-b89f9242dbc1');\n",
              "          const dataTable =\n",
              "            await google.colab.kernel.invokeFunction('convertToInteractive',\n",
              "                                                     [key], {});\n",
              "          if (!dataTable) return;\n",
              "\n",
              "          const docLinkHtml = 'Like what you see? Visit the ' +\n",
              "            '<a target=\"_blank\" href=https://colab.research.google.com/notebooks/data_table.ipynb>data table notebook</a>'\n",
              "            + ' to learn more about interactive tables.';\n",
              "          element.innerHTML = '';\n",
              "          dataTable['output_type'] = 'display_data';\n",
              "          await google.colab.output.renderOutput(dataTable, element);\n",
              "          const docLink = document.createElement('div');\n",
              "          docLink.innerHTML = docLinkHtml;\n",
              "          element.appendChild(docLink);\n",
              "        }\n",
              "      </script>\n",
              "    </div>\n",
              "  </div>\n",
              "  "
            ]
          },
          "metadata": {},
          "execution_count": 138
        }
      ],
      "source": [
        "dataset.tail(5)"
      ]
    },
    {
      "cell_type": "markdown",
      "metadata": {
        "id": "GPUb9YIncpCD"
      },
      "source": [
        "# Exploratory Data Analysis"
      ]
    },
    {
      "cell_type": "markdown",
      "metadata": {
        "id": "TA-oQINJcvQO"
      },
      "source": [
        "## Finding the Characteristics of the Dataset"
      ]
    },
    {
      "cell_type": "code",
      "execution_count": null,
      "metadata": {
        "colab": {
          "base_uri": "https://localhost:8080/"
        },
        "id": "-MHaFhHhUNNj",
        "outputId": "1aac5193-0f04-412f-cdc9-49a54ece7af4"
      },
      "outputs": [
        {
          "output_type": "stream",
          "name": "stdout",
          "text": [
            "<class 'pandas.core.frame.DataFrame'>\n",
            "RangeIndex: 37411 entries, 0 to 37410\n",
            "Data columns (total 34 columns):\n",
            " #   Column                         Non-Null Count  Dtype \n",
            "---  ------                         --------------  ----- \n",
            " 0   Switch ID                      37411 non-null  object\n",
            " 1   Port Number                    37411 non-null  object\n",
            " 2   Received Packets               37411 non-null  int64 \n",
            " 3   Received Bytes                 37411 non-null  int64 \n",
            " 4   Sent Bytes                     37411 non-null  int64 \n",
            " 5   Sent Packets                   37411 non-null  int64 \n",
            " 6   Port alive Duration (S)        37411 non-null  int64 \n",
            " 7   Packets Rx Dropped             37411 non-null  int64 \n",
            " 8   Packets Tx Dropped             37411 non-null  int64 \n",
            " 9   Packets Rx Errors              37411 non-null  int64 \n",
            " 10  Packets Tx Errors              37411 non-null  int64 \n",
            " 11  Delta Received Packets         37411 non-null  int64 \n",
            " 12  Delta Received Bytes           37411 non-null  int64 \n",
            " 13  Delta Sent Bytes               37411 non-null  int64 \n",
            " 14  Delta Sent Packets             37411 non-null  int64 \n",
            " 15  Delta Port alive Duration (S)  37411 non-null  int64 \n",
            " 16  Delta Packets Rx Dropped       37411 non-null  int64 \n",
            " 17   Delta Packets Tx Dropped      37411 non-null  int64 \n",
            " 18  Delta Packets Rx Errors        37411 non-null  int64 \n",
            " 19  Delta Packets Tx Errors        37411 non-null  int64 \n",
            " 20  Connection Point               37411 non-null  int64 \n",
            " 21  Total Load/Rate                37411 non-null  int64 \n",
            " 22  Total Load/Latest              37411 non-null  int64 \n",
            " 23  Unknown Load/Rate              37411 non-null  int64 \n",
            " 24  Unknown Load/Latest            37411 non-null  int64 \n",
            " 25  Latest bytes counter           37411 non-null  int64 \n",
            " 26  is_valid                       37411 non-null  bool  \n",
            " 27  Table ID                       37411 non-null  int64 \n",
            " 28  Active Flow Entries            37411 non-null  int64 \n",
            " 29  Packets Looked Up              37411 non-null  int64 \n",
            " 30  Packets Matched                37411 non-null  int64 \n",
            " 31  Max Size                       37411 non-null  int64 \n",
            " 32  Label                          37411 non-null  object\n",
            " 33  Binary Label                   37411 non-null  object\n",
            "dtypes: bool(1), int64(29), object(4)\n",
            "memory usage: 9.5+ MB\n",
            "None\n"
          ]
        }
      ],
      "source": [
        "print(dataset.info())"
      ]
    },
    {
      "cell_type": "code",
      "execution_count": null,
      "metadata": {
        "colab": {
          "base_uri": "https://localhost:8080/"
        },
        "id": "6d36Cx5MUVlH",
        "outputId": "36069d7c-3ecb-4d55-8c2b-ca07d69f4c4a"
      },
      "outputs": [
        {
          "output_type": "stream",
          "name": "stdout",
          "text": [
            "(37411, 34)\n"
          ]
        }
      ],
      "source": [
        "print(dataset.shape)"
      ]
    },
    {
      "cell_type": "code",
      "execution_count": null,
      "metadata": {
        "colab": {
          "base_uri": "https://localhost:8080/"
        },
        "id": "I0S6jNZrUZob",
        "outputId": "7f25c5c0-1b9e-403c-c31c-d7c9db86e378"
      },
      "outputs": [
        {
          "output_type": "stream",
          "name": "stdout",
          "text": [
            "Index(['Switch ID', 'Port Number', 'Received Packets', 'Received Bytes',\n",
            "       'Sent Bytes', 'Sent Packets', 'Port alive Duration (S)',\n",
            "       'Packets Rx Dropped', 'Packets Tx Dropped', 'Packets Rx Errors',\n",
            "       'Packets Tx Errors', 'Delta Received Packets', 'Delta Received Bytes',\n",
            "       'Delta Sent Bytes', 'Delta Sent Packets',\n",
            "       'Delta Port alive Duration (S)', 'Delta Packets Rx Dropped',\n",
            "       ' Delta Packets Tx Dropped', 'Delta Packets Rx Errors',\n",
            "       'Delta Packets Tx Errors', 'Connection Point', 'Total Load/Rate',\n",
            "       'Total Load/Latest', 'Unknown Load/Rate', 'Unknown Load/Latest',\n",
            "       'Latest bytes counter', 'is_valid', 'Table ID', 'Active Flow Entries',\n",
            "       'Packets Looked Up', 'Packets Matched', 'Max Size', 'Label',\n",
            "       'Binary Label'],\n",
            "      dtype='object')\n"
          ]
        }
      ],
      "source": [
        "print(dataset.columns)"
      ]
    },
    {
      "cell_type": "code",
      "execution_count": null,
      "metadata": {
        "colab": {
          "base_uri": "https://localhost:8080/"
        },
        "id": "ek7V-yiXUeAy",
        "outputId": "6d6b52ff-d8dc-4e81-fa95-59a831557f17"
      },
      "outputs": [
        {
          "output_type": "execute_result",
          "data": {
            "text/plain": [
              "Switch ID                        0\n",
              "Port Number                      0\n",
              "Received Packets                 0\n",
              "Received Bytes                   0\n",
              "Sent Bytes                       0\n",
              "Sent Packets                     0\n",
              "Port alive Duration (S)          0\n",
              "Packets Rx Dropped               0\n",
              "Packets Tx Dropped               0\n",
              "Packets Rx Errors                0\n",
              "Packets Tx Errors                0\n",
              "Delta Received Packets           0\n",
              "Delta Received Bytes             0\n",
              "Delta Sent Bytes                 0\n",
              "Delta Sent Packets               0\n",
              "Delta Port alive Duration (S)    0\n",
              "Delta Packets Rx Dropped         0\n",
              " Delta Packets Tx Dropped        0\n",
              "Delta Packets Rx Errors          0\n",
              "Delta Packets Tx Errors          0\n",
              "Connection Point                 0\n",
              "Total Load/Rate                  0\n",
              "Total Load/Latest                0\n",
              "Unknown Load/Rate                0\n",
              "Unknown Load/Latest              0\n",
              "Latest bytes counter             0\n",
              "is_valid                         0\n",
              "Table ID                         0\n",
              "Active Flow Entries              0\n",
              "Packets Looked Up                0\n",
              "Packets Matched                  0\n",
              "Max Size                         0\n",
              "Label                            0\n",
              "Binary Label                     0\n",
              "dtype: int64"
            ]
          },
          "metadata": {},
          "execution_count": 142
        }
      ],
      "source": [
        "dataset.isnull().sum()"
      ]
    },
    {
      "cell_type": "code",
      "execution_count": null,
      "metadata": {
        "id": "DEHeNIl6U3sm"
      },
      "outputs": [],
      "source": [
        "#find numerical and categorical values\n",
        "df_num = dataset.select_dtypes(include=['int64', 'bool'])\n",
        "df_cat = set(dataset.columns) - set(df_num) "
      ]
    },
    {
      "cell_type": "code",
      "execution_count": null,
      "metadata": {
        "colab": {
          "base_uri": "https://localhost:8080/"
        },
        "id": "ko9ajrVFYLwK",
        "outputId": "bde2d19b-4560-40fc-e618-06e5be3cfbcf"
      },
      "outputs": [
        {
          "output_type": "execute_result",
          "data": {
            "text/plain": [
              "Index(['Received Packets', 'Received Bytes', 'Sent Bytes', 'Sent Packets',\n",
              "       'Port alive Duration (S)', 'Packets Rx Dropped', 'Packets Tx Dropped',\n",
              "       'Packets Rx Errors', 'Packets Tx Errors', 'Delta Received Packets',\n",
              "       'Delta Received Bytes', 'Delta Sent Bytes', 'Delta Sent Packets',\n",
              "       'Delta Port alive Duration (S)', 'Delta Packets Rx Dropped',\n",
              "       ' Delta Packets Tx Dropped', 'Delta Packets Rx Errors',\n",
              "       'Delta Packets Tx Errors', 'Connection Point', 'Total Load/Rate',\n",
              "       'Total Load/Latest', 'Unknown Load/Rate', 'Unknown Load/Latest',\n",
              "       'Latest bytes counter', 'is_valid', 'Table ID', 'Active Flow Entries',\n",
              "       'Packets Looked Up', 'Packets Matched', 'Max Size'],\n",
              "      dtype='object')"
            ]
          },
          "metadata": {},
          "execution_count": 144
        }
      ],
      "source": [
        "df_num.columns"
      ]
    },
    {
      "cell_type": "code",
      "execution_count": null,
      "metadata": {
        "colab": {
          "base_uri": "https://localhost:8080/"
        },
        "id": "Vev6BurZYn2K",
        "outputId": "1deb752c-5bb2-42f2-b078-7d7399e5c98a"
      },
      "outputs": [
        {
          "output_type": "execute_result",
          "data": {
            "text/plain": [
              "{'Binary Label', 'Label', 'Port Number', 'Switch ID'}"
            ]
          },
          "metadata": {},
          "execution_count": 145
        }
      ],
      "source": [
        "df_cat"
      ]
    },
    {
      "cell_type": "code",
      "execution_count": null,
      "metadata": {
        "id": "BCLOqWazZoKm"
      },
      "outputs": [],
      "source": [
        "#to find columns with one unique values and drop them\n",
        "for col in dataset.columns:\n",
        "    if len(dataset[col].unique()) == 1:\n",
        "      dataset.drop(col,inplace=True,axis=1)"
      ]
    },
    {
      "cell_type": "code",
      "execution_count": null,
      "metadata": {
        "colab": {
          "base_uri": "https://localhost:8080/"
        },
        "id": "7Qm4pBDBbhuJ",
        "outputId": "870c90cd-6c54-4a06-ebaa-3ea01797cc80"
      },
      "outputs": [
        {
          "output_type": "execute_result",
          "data": {
            "text/plain": [
              "                 Switch ID Port Number  Received Packets  Received Bytes  \\\n",
              "0      of:000000000000000c     Port#:1               132            9181   \n",
              "1      of:000000000000000c     Port#:2               187         6304498   \n",
              "2      of:000000000000000c     Port#:3               235         6311567   \n",
              "3      of:000000000000000c     Port#:4                59            7878   \n",
              "4      of:000000000000000a     Port#:1               188         6304547   \n",
              "...                    ...         ...               ...             ...   \n",
              "37406  of:0000000000000006     Port#:2               228           30195   \n",
              "37407  of:0000000000000006     Port#:3              1064        18962056   \n",
              "37408  of:0000000000000009     Port#:1              1042        25252012   \n",
              "37409  of:0000000000000009     Port#:2            149012        14360115   \n",
              "37410  of:0000000000000009     Port#:3               228           30377   \n",
              "\n",
              "       Sent Bytes  Sent Packets  Port alive Duration (S)  \\\n",
              "0         6311853           238                       46   \n",
              "1           15713           171                       46   \n",
              "2            8030            58                       46   \n",
              "3           16439           182                       46   \n",
              "4           16497           183                       46   \n",
              "...           ...           ...                      ...   \n",
              "37406     7857046        145141                      276   \n",
              "37407       37732           338                      276   \n",
              "37408     7856976        145140                      276   \n",
              "37409       29509           211                      276   \n",
              "37410    25258600          1138                      276   \n",
              "\n",
              "       Delta Received Packets  Delta Received Bytes  Delta Sent Bytes  ...  \\\n",
              "0                           0                     0               280  ...   \n",
              "1                         146               5908166              5969  ...   \n",
              "2                           2                   278               280  ...   \n",
              "3                           2                   278               280  ...   \n",
              "4                           0                     0               280  ...   \n",
              "...                       ...                   ...               ...  ...   \n",
              "37406                       4                   556            288376  ...   \n",
              "37407                       4                   556               556  ...   \n",
              "37408                       4                   556            288376  ...   \n",
              "37409                    5381                291755               556  ...   \n",
              "37410                       4                   560               556  ...   \n",
              "\n",
              "       Total Load/Rate  Total Load/Latest  Unknown Load/Rate  \\\n",
              "0                    0                  0                  0   \n",
              "1                    0                  0                  0   \n",
              "2                    0                  0                  0   \n",
              "3                    0                  0                  0   \n",
              "4                    0                  0                  0   \n",
              "...                ...                ...                ...   \n",
              "37406                0                  0                  0   \n",
              "37407                0                  0                  0   \n",
              "37408                0                  0                  0   \n",
              "37409                0                  0                  0   \n",
              "37410                0                  0                  0   \n",
              "\n",
              "       Unknown Load/Latest  Latest bytes counter  Active Flow Entries  \\\n",
              "0                        0                     0                    9   \n",
              "1                        0                     0                    9   \n",
              "2                        0                     0                    9   \n",
              "3                        0                     0                    9   \n",
              "4                        0                     0                    7   \n",
              "...                    ...                   ...                  ...   \n",
              "37406                    0                     0                    6   \n",
              "37407                    0                     0                    6   \n",
              "37408                    0                     0                    8   \n",
              "37409                    0                     0                    8   \n",
              "37410                    0                     0                    8   \n",
              "\n",
              "       Packets Looked Up  Packets Matched     Label  Binary Label  \n",
              "0                    767              688   TCP-SYN        Attack  \n",
              "1                    767              688   TCP-SYN        Attack  \n",
              "2                    767              688   TCP-SYN        Attack  \n",
              "3                    767              688   TCP-SYN        Attack  \n",
              "4                    489              403   TCP-SYN        Attack  \n",
              "...                  ...              ...       ...           ...  \n",
              "37406             147563           147454  PortScan        Attack  \n",
              "37407             147563           147454  PortScan        Attack  \n",
              "37408             295511           295404  PortScan        Attack  \n",
              "37409             295511           295404  PortScan        Attack  \n",
              "37410             295511           295404  PortScan        Attack  \n",
              "\n",
              "[37411 rows x 23 columns]"
            ],
            "text/html": [
              "\n",
              "  <div id=\"df-bdbf2923-c844-4768-8203-1eb0dfd520ba\">\n",
              "    <div class=\"colab-df-container\">\n",
              "      <div>\n",
              "<style scoped>\n",
              "    .dataframe tbody tr th:only-of-type {\n",
              "        vertical-align: middle;\n",
              "    }\n",
              "\n",
              "    .dataframe tbody tr th {\n",
              "        vertical-align: top;\n",
              "    }\n",
              "\n",
              "    .dataframe thead th {\n",
              "        text-align: right;\n",
              "    }\n",
              "</style>\n",
              "<table border=\"1\" class=\"dataframe\">\n",
              "  <thead>\n",
              "    <tr style=\"text-align: right;\">\n",
              "      <th></th>\n",
              "      <th>Switch ID</th>\n",
              "      <th>Port Number</th>\n",
              "      <th>Received Packets</th>\n",
              "      <th>Received Bytes</th>\n",
              "      <th>Sent Bytes</th>\n",
              "      <th>Sent Packets</th>\n",
              "      <th>Port alive Duration (S)</th>\n",
              "      <th>Delta Received Packets</th>\n",
              "      <th>Delta Received Bytes</th>\n",
              "      <th>Delta Sent Bytes</th>\n",
              "      <th>...</th>\n",
              "      <th>Total Load/Rate</th>\n",
              "      <th>Total Load/Latest</th>\n",
              "      <th>Unknown Load/Rate</th>\n",
              "      <th>Unknown Load/Latest</th>\n",
              "      <th>Latest bytes counter</th>\n",
              "      <th>Active Flow Entries</th>\n",
              "      <th>Packets Looked Up</th>\n",
              "      <th>Packets Matched</th>\n",
              "      <th>Label</th>\n",
              "      <th>Binary Label</th>\n",
              "    </tr>\n",
              "  </thead>\n",
              "  <tbody>\n",
              "    <tr>\n",
              "      <th>0</th>\n",
              "      <td>of:000000000000000c</td>\n",
              "      <td>Port#:1</td>\n",
              "      <td>132</td>\n",
              "      <td>9181</td>\n",
              "      <td>6311853</td>\n",
              "      <td>238</td>\n",
              "      <td>46</td>\n",
              "      <td>0</td>\n",
              "      <td>0</td>\n",
              "      <td>280</td>\n",
              "      <td>...</td>\n",
              "      <td>0</td>\n",
              "      <td>0</td>\n",
              "      <td>0</td>\n",
              "      <td>0</td>\n",
              "      <td>0</td>\n",
              "      <td>9</td>\n",
              "      <td>767</td>\n",
              "      <td>688</td>\n",
              "      <td>TCP-SYN</td>\n",
              "      <td>Attack</td>\n",
              "    </tr>\n",
              "    <tr>\n",
              "      <th>1</th>\n",
              "      <td>of:000000000000000c</td>\n",
              "      <td>Port#:2</td>\n",
              "      <td>187</td>\n",
              "      <td>6304498</td>\n",
              "      <td>15713</td>\n",
              "      <td>171</td>\n",
              "      <td>46</td>\n",
              "      <td>146</td>\n",
              "      <td>5908166</td>\n",
              "      <td>5969</td>\n",
              "      <td>...</td>\n",
              "      <td>0</td>\n",
              "      <td>0</td>\n",
              "      <td>0</td>\n",
              "      <td>0</td>\n",
              "      <td>0</td>\n",
              "      <td>9</td>\n",
              "      <td>767</td>\n",
              "      <td>688</td>\n",
              "      <td>TCP-SYN</td>\n",
              "      <td>Attack</td>\n",
              "    </tr>\n",
              "    <tr>\n",
              "      <th>2</th>\n",
              "      <td>of:000000000000000c</td>\n",
              "      <td>Port#:3</td>\n",
              "      <td>235</td>\n",
              "      <td>6311567</td>\n",
              "      <td>8030</td>\n",
              "      <td>58</td>\n",
              "      <td>46</td>\n",
              "      <td>2</td>\n",
              "      <td>278</td>\n",
              "      <td>280</td>\n",
              "      <td>...</td>\n",
              "      <td>0</td>\n",
              "      <td>0</td>\n",
              "      <td>0</td>\n",
              "      <td>0</td>\n",
              "      <td>0</td>\n",
              "      <td>9</td>\n",
              "      <td>767</td>\n",
              "      <td>688</td>\n",
              "      <td>TCP-SYN</td>\n",
              "      <td>Attack</td>\n",
              "    </tr>\n",
              "    <tr>\n",
              "      <th>3</th>\n",
              "      <td>of:000000000000000c</td>\n",
              "      <td>Port#:4</td>\n",
              "      <td>59</td>\n",
              "      <td>7878</td>\n",
              "      <td>16439</td>\n",
              "      <td>182</td>\n",
              "      <td>46</td>\n",
              "      <td>2</td>\n",
              "      <td>278</td>\n",
              "      <td>280</td>\n",
              "      <td>...</td>\n",
              "      <td>0</td>\n",
              "      <td>0</td>\n",
              "      <td>0</td>\n",
              "      <td>0</td>\n",
              "      <td>0</td>\n",
              "      <td>9</td>\n",
              "      <td>767</td>\n",
              "      <td>688</td>\n",
              "      <td>TCP-SYN</td>\n",
              "      <td>Attack</td>\n",
              "    </tr>\n",
              "    <tr>\n",
              "      <th>4</th>\n",
              "      <td>of:000000000000000a</td>\n",
              "      <td>Port#:1</td>\n",
              "      <td>188</td>\n",
              "      <td>6304547</td>\n",
              "      <td>16497</td>\n",
              "      <td>183</td>\n",
              "      <td>46</td>\n",
              "      <td>0</td>\n",
              "      <td>0</td>\n",
              "      <td>280</td>\n",
              "      <td>...</td>\n",
              "      <td>0</td>\n",
              "      <td>0</td>\n",
              "      <td>0</td>\n",
              "      <td>0</td>\n",
              "      <td>0</td>\n",
              "      <td>7</td>\n",
              "      <td>489</td>\n",
              "      <td>403</td>\n",
              "      <td>TCP-SYN</td>\n",
              "      <td>Attack</td>\n",
              "    </tr>\n",
              "    <tr>\n",
              "      <th>...</th>\n",
              "      <td>...</td>\n",
              "      <td>...</td>\n",
              "      <td>...</td>\n",
              "      <td>...</td>\n",
              "      <td>...</td>\n",
              "      <td>...</td>\n",
              "      <td>...</td>\n",
              "      <td>...</td>\n",
              "      <td>...</td>\n",
              "      <td>...</td>\n",
              "      <td>...</td>\n",
              "      <td>...</td>\n",
              "      <td>...</td>\n",
              "      <td>...</td>\n",
              "      <td>...</td>\n",
              "      <td>...</td>\n",
              "      <td>...</td>\n",
              "      <td>...</td>\n",
              "      <td>...</td>\n",
              "      <td>...</td>\n",
              "      <td>...</td>\n",
              "    </tr>\n",
              "    <tr>\n",
              "      <th>37406</th>\n",
              "      <td>of:0000000000000006</td>\n",
              "      <td>Port#:2</td>\n",
              "      <td>228</td>\n",
              "      <td>30195</td>\n",
              "      <td>7857046</td>\n",
              "      <td>145141</td>\n",
              "      <td>276</td>\n",
              "      <td>4</td>\n",
              "      <td>556</td>\n",
              "      <td>288376</td>\n",
              "      <td>...</td>\n",
              "      <td>0</td>\n",
              "      <td>0</td>\n",
              "      <td>0</td>\n",
              "      <td>0</td>\n",
              "      <td>0</td>\n",
              "      <td>6</td>\n",
              "      <td>147563</td>\n",
              "      <td>147454</td>\n",
              "      <td>PortScan</td>\n",
              "      <td>Attack</td>\n",
              "    </tr>\n",
              "    <tr>\n",
              "      <th>37407</th>\n",
              "      <td>of:0000000000000006</td>\n",
              "      <td>Port#:3</td>\n",
              "      <td>1064</td>\n",
              "      <td>18962056</td>\n",
              "      <td>37732</td>\n",
              "      <td>338</td>\n",
              "      <td>276</td>\n",
              "      <td>4</td>\n",
              "      <td>556</td>\n",
              "      <td>556</td>\n",
              "      <td>...</td>\n",
              "      <td>0</td>\n",
              "      <td>0</td>\n",
              "      <td>0</td>\n",
              "      <td>0</td>\n",
              "      <td>0</td>\n",
              "      <td>6</td>\n",
              "      <td>147563</td>\n",
              "      <td>147454</td>\n",
              "      <td>PortScan</td>\n",
              "      <td>Attack</td>\n",
              "    </tr>\n",
              "    <tr>\n",
              "      <th>37408</th>\n",
              "      <td>of:0000000000000009</td>\n",
              "      <td>Port#:1</td>\n",
              "      <td>1042</td>\n",
              "      <td>25252012</td>\n",
              "      <td>7856976</td>\n",
              "      <td>145140</td>\n",
              "      <td>276</td>\n",
              "      <td>4</td>\n",
              "      <td>556</td>\n",
              "      <td>288376</td>\n",
              "      <td>...</td>\n",
              "      <td>0</td>\n",
              "      <td>0</td>\n",
              "      <td>0</td>\n",
              "      <td>0</td>\n",
              "      <td>0</td>\n",
              "      <td>8</td>\n",
              "      <td>295511</td>\n",
              "      <td>295404</td>\n",
              "      <td>PortScan</td>\n",
              "      <td>Attack</td>\n",
              "    </tr>\n",
              "    <tr>\n",
              "      <th>37409</th>\n",
              "      <td>of:0000000000000009</td>\n",
              "      <td>Port#:2</td>\n",
              "      <td>149012</td>\n",
              "      <td>14360115</td>\n",
              "      <td>29509</td>\n",
              "      <td>211</td>\n",
              "      <td>276</td>\n",
              "      <td>5381</td>\n",
              "      <td>291755</td>\n",
              "      <td>556</td>\n",
              "      <td>...</td>\n",
              "      <td>0</td>\n",
              "      <td>0</td>\n",
              "      <td>0</td>\n",
              "      <td>0</td>\n",
              "      <td>0</td>\n",
              "      <td>8</td>\n",
              "      <td>295511</td>\n",
              "      <td>295404</td>\n",
              "      <td>PortScan</td>\n",
              "      <td>Attack</td>\n",
              "    </tr>\n",
              "    <tr>\n",
              "      <th>37410</th>\n",
              "      <td>of:0000000000000009</td>\n",
              "      <td>Port#:3</td>\n",
              "      <td>228</td>\n",
              "      <td>30377</td>\n",
              "      <td>25258600</td>\n",
              "      <td>1138</td>\n",
              "      <td>276</td>\n",
              "      <td>4</td>\n",
              "      <td>560</td>\n",
              "      <td>556</td>\n",
              "      <td>...</td>\n",
              "      <td>0</td>\n",
              "      <td>0</td>\n",
              "      <td>0</td>\n",
              "      <td>0</td>\n",
              "      <td>0</td>\n",
              "      <td>8</td>\n",
              "      <td>295511</td>\n",
              "      <td>295404</td>\n",
              "      <td>PortScan</td>\n",
              "      <td>Attack</td>\n",
              "    </tr>\n",
              "  </tbody>\n",
              "</table>\n",
              "<p>37411 rows × 23 columns</p>\n",
              "</div>\n",
              "      <button class=\"colab-df-convert\" onclick=\"convertToInteractive('df-bdbf2923-c844-4768-8203-1eb0dfd520ba')\"\n",
              "              title=\"Convert this dataframe to an interactive table.\"\n",
              "              style=\"display:none;\">\n",
              "        \n",
              "  <svg xmlns=\"http://www.w3.org/2000/svg\" height=\"24px\"viewBox=\"0 0 24 24\"\n",
              "       width=\"24px\">\n",
              "    <path d=\"M0 0h24v24H0V0z\" fill=\"none\"/>\n",
              "    <path d=\"M18.56 5.44l.94 2.06.94-2.06 2.06-.94-2.06-.94-.94-2.06-.94 2.06-2.06.94zm-11 1L8.5 8.5l.94-2.06 2.06-.94-2.06-.94L8.5 2.5l-.94 2.06-2.06.94zm10 10l.94 2.06.94-2.06 2.06-.94-2.06-.94-.94-2.06-.94 2.06-2.06.94z\"/><path d=\"M17.41 7.96l-1.37-1.37c-.4-.4-.92-.59-1.43-.59-.52 0-1.04.2-1.43.59L10.3 9.45l-7.72 7.72c-.78.78-.78 2.05 0 2.83L4 21.41c.39.39.9.59 1.41.59.51 0 1.02-.2 1.41-.59l7.78-7.78 2.81-2.81c.8-.78.8-2.07 0-2.86zM5.41 20L4 18.59l7.72-7.72 1.47 1.35L5.41 20z\"/>\n",
              "  </svg>\n",
              "      </button>\n",
              "      \n",
              "  <style>\n",
              "    .colab-df-container {\n",
              "      display:flex;\n",
              "      flex-wrap:wrap;\n",
              "      gap: 12px;\n",
              "    }\n",
              "\n",
              "    .colab-df-convert {\n",
              "      background-color: #E8F0FE;\n",
              "      border: none;\n",
              "      border-radius: 50%;\n",
              "      cursor: pointer;\n",
              "      display: none;\n",
              "      fill: #1967D2;\n",
              "      height: 32px;\n",
              "      padding: 0 0 0 0;\n",
              "      width: 32px;\n",
              "    }\n",
              "\n",
              "    .colab-df-convert:hover {\n",
              "      background-color: #E2EBFA;\n",
              "      box-shadow: 0px 1px 2px rgba(60, 64, 67, 0.3), 0px 1px 3px 1px rgba(60, 64, 67, 0.15);\n",
              "      fill: #174EA6;\n",
              "    }\n",
              "\n",
              "    [theme=dark] .colab-df-convert {\n",
              "      background-color: #3B4455;\n",
              "      fill: #D2E3FC;\n",
              "    }\n",
              "\n",
              "    [theme=dark] .colab-df-convert:hover {\n",
              "      background-color: #434B5C;\n",
              "      box-shadow: 0px 1px 3px 1px rgba(0, 0, 0, 0.15);\n",
              "      filter: drop-shadow(0px 1px 2px rgba(0, 0, 0, 0.3));\n",
              "      fill: #FFFFFF;\n",
              "    }\n",
              "  </style>\n",
              "\n",
              "      <script>\n",
              "        const buttonEl =\n",
              "          document.querySelector('#df-bdbf2923-c844-4768-8203-1eb0dfd520ba button.colab-df-convert');\n",
              "        buttonEl.style.display =\n",
              "          google.colab.kernel.accessAllowed ? 'block' : 'none';\n",
              "\n",
              "        async function convertToInteractive(key) {\n",
              "          const element = document.querySelector('#df-bdbf2923-c844-4768-8203-1eb0dfd520ba');\n",
              "          const dataTable =\n",
              "            await google.colab.kernel.invokeFunction('convertToInteractive',\n",
              "                                                     [key], {});\n",
              "          if (!dataTable) return;\n",
              "\n",
              "          const docLinkHtml = 'Like what you see? Visit the ' +\n",
              "            '<a target=\"_blank\" href=https://colab.research.google.com/notebooks/data_table.ipynb>data table notebook</a>'\n",
              "            + ' to learn more about interactive tables.';\n",
              "          element.innerHTML = '';\n",
              "          dataTable['output_type'] = 'display_data';\n",
              "          await google.colab.output.renderOutput(dataTable, element);\n",
              "          const docLink = document.createElement('div');\n",
              "          docLink.innerHTML = docLinkHtml;\n",
              "          element.appendChild(docLink);\n",
              "        }\n",
              "      </script>\n",
              "    </div>\n",
              "  </div>\n",
              "  "
            ]
          },
          "metadata": {},
          "execution_count": 147
        }
      ],
      "source": [
        "dataset"
      ]
    },
    {
      "cell_type": "code",
      "execution_count": null,
      "metadata": {
        "colab": {
          "base_uri": "https://localhost:8080/"
        },
        "id": "-ugHAtHHbs2I",
        "outputId": "f0a0ea86-8de8-4bde-e7fb-17e10f1d5539"
      },
      "outputs": [
        {
          "output_type": "stream",
          "name": "stdout",
          "text": [
            "<class 'pandas.core.frame.DataFrame'>\n",
            "RangeIndex: 37411 entries, 0 to 37410\n",
            "Data columns (total 23 columns):\n",
            " #   Column                         Non-Null Count  Dtype \n",
            "---  ------                         --------------  ----- \n",
            " 0   Switch ID                      37411 non-null  object\n",
            " 1   Port Number                    37411 non-null  object\n",
            " 2   Received Packets               37411 non-null  int64 \n",
            " 3   Received Bytes                 37411 non-null  int64 \n",
            " 4   Sent Bytes                     37411 non-null  int64 \n",
            " 5   Sent Packets                   37411 non-null  int64 \n",
            " 6   Port alive Duration (S)        37411 non-null  int64 \n",
            " 7   Delta Received Packets         37411 non-null  int64 \n",
            " 8   Delta Received Bytes           37411 non-null  int64 \n",
            " 9   Delta Sent Bytes               37411 non-null  int64 \n",
            " 10  Delta Sent Packets             37411 non-null  int64 \n",
            " 11  Delta Port alive Duration (S)  37411 non-null  int64 \n",
            " 12  Connection Point               37411 non-null  int64 \n",
            " 13  Total Load/Rate                37411 non-null  int64 \n",
            " 14  Total Load/Latest              37411 non-null  int64 \n",
            " 15  Unknown Load/Rate              37411 non-null  int64 \n",
            " 16  Unknown Load/Latest            37411 non-null  int64 \n",
            " 17  Latest bytes counter           37411 non-null  int64 \n",
            " 18  Active Flow Entries            37411 non-null  int64 \n",
            " 19  Packets Looked Up              37411 non-null  int64 \n",
            " 20  Packets Matched                37411 non-null  int64 \n",
            " 21  Label                          37411 non-null  object\n",
            " 22  Binary Label                   37411 non-null  object\n",
            "dtypes: int64(19), object(4)\n",
            "memory usage: 6.6+ MB\n"
          ]
        }
      ],
      "source": [
        "dataset.info()"
      ]
    },
    {
      "cell_type": "markdown",
      "metadata": {
        "id": "vs8TwLZXdZaC"
      },
      "source": [
        "## Visualizing the Dataset"
      ]
    },
    {
      "cell_type": "code",
      "execution_count": null,
      "metadata": {
        "colab": {
          "base_uri": "https://localhost:8080/"
        },
        "id": "jhYqT27Dfiq6",
        "outputId": "7c516daa-96b7-442e-a869-f7f104d49f5c"
      },
      "outputs": [
        {
          "output_type": "display_data",
          "data": {
            "text/plain": [
              "<Figure size 432x288 with 1 Axes>"
            ],
            "image/png": "[encoded data removed]"
          },
          "metadata": {
            "needs_background": "light"
          }
        },
        {
          "output_type": "display_data",
          "data": {
            "text/plain": [
              "<Figure size 432x288 with 1 Axes>"
            ],
            "image/png": "[encoded data removed]"
          },
          "metadata": {
            "needs_background": "light"
          }
        },
        {
          "output_type": "display_data",
          "data": {
            "text/plain": [
              "<Figure size 432x288 with 1 Axes>"
            ],
            "image/png": "[encoded data removed]"
          },
          "metadata": {
            "needs_background": "light"
          }
        },
        {
          "output_type": "display_data",
          "data": {
            "text/plain": [
              "<Figure size 432x288 with 1 Axes>"
            ],
            "image/png": "[encoded data removed]"
          },
          "metadata": {
            "needs_background": "light"
          }
        },
        {
          "output_type": "display_data",
          "data": {
            "text/plain": [
              "<Figure size 432x288 with 0 Axes>"
            ]
          },
          "metadata": {}
        }
      ],
      "source": [
        "#plot the bar graph of all categorical variables\n",
        "for i in df_cat:\n",
        "  dataset[i].value_counts().plot(kind=\"bar\")\n",
        "  plt.xlabel(i)\n",
        "  plt.ylabel('Frequency of ' + i)\n",
        "  plt.figure()"
      ]
    },
    {
      "cell_type": "code",
      "execution_count": null,
      "metadata": {
        "colab": {
          "base_uri": "https://localhost:8080/"
        },
        "id": "wx3wR5t3dd9W",
        "outputId": "17d0acec-2932-4999-afe9-54837060481b"
      },
      "outputs": [
        {
          "output_type": "execute_result",
          "data": {
            "text/plain": [
              "array([[<matplotlib.axes._subplots.AxesSubplot object at 0x7f8d758949a0>,\n",
              "        <matplotlib.axes._subplots.AxesSubplot object at 0x7f8d75a68e20>,\n",
              "        <matplotlib.axes._subplots.AxesSubplot object at 0x7f8d75925130>,\n",
              "        <matplotlib.axes._subplots.AxesSubplot object at 0x7f8d759a60d0>],\n",
              "       [<matplotlib.axes._subplots.AxesSubplot object at 0x7f8d75afaf40>,\n",
              "        <matplotlib.axes._subplots.AxesSubplot object at 0x7f8d75931100>,\n",
              "        <matplotlib.axes._subplots.AxesSubplot object at 0x7f8d759317f0>,\n",
              "        <matplotlib.axes._subplots.AxesSubplot object at 0x7f8d75989e80>],\n",
              "       [<matplotlib.axes._subplots.AxesSubplot object at 0x7f8d75b62250>,\n",
              "        <matplotlib.axes._subplots.AxesSubplot object at 0x7f8d75956ca0>,\n",
              "        <matplotlib.axes._subplots.AxesSubplot object at 0x7f8d75e37850>,\n",
              "        <matplotlib.axes._subplots.AxesSubplot object at 0x7f8d75e1eee0>],\n",
              "       [<matplotlib.axes._subplots.AxesSubplot object at 0x7f8d76109fd0>,\n",
              "        <matplotlib.axes._subplots.AxesSubplot object at 0x7f8d762b30a0>,\n",
              "        <matplotlib.axes._subplots.AxesSubplot object at 0x7f8d7660e4f0>,\n",
              "        <matplotlib.axes._subplots.AxesSubplot object at 0x7f8d762dc100>],\n",
              "       [<matplotlib.axes._subplots.AxesSubplot object at 0x7f8d8442af10>,\n",
              "        <matplotlib.axes._subplots.AxesSubplot object at 0x7f8d75ab3370>,\n",
              "        <matplotlib.axes._subplots.AxesSubplot object at 0x7f8d75a14760>,\n",
              "        <matplotlib.axes._subplots.AxesSubplot object at 0x7f8d75b6ba90>],\n",
              "       [<matplotlib.axes._subplots.AxesSubplot object at 0x7f8d75b20070>,\n",
              "        <matplotlib.axes._subplots.AxesSubplot object at 0x7f8d760f6e20>,\n",
              "        <matplotlib.axes._subplots.AxesSubplot object at 0x7f8d75bc5580>,\n",
              "        <matplotlib.axes._subplots.AxesSubplot object at 0x7f8d7628aca0>]],\n",
              "      dtype=object)"
            ]
          },
          "metadata": {},
          "execution_count": 150
        },
        {
          "output_type": "display_data",
          "data": {
            "text/plain": [
              "<Figure size 2880x2880 with 24 Axes>"
            ],
            "image/png": "[encoded data removed]"
          },
          "metadata": {
            "needs_background": "light"
          }
        }
      ],
      "source": [
        "dataset.hist(layout=(6,4), figsize=(40,40))"
      ]
    },
    {
      "cell_type": "code",
      "execution_count": null,
      "metadata": {
        "colab": {
          "base_uri": "https://localhost:8080/"
        },
        "id": "cE9xh_Ono5rB",
        "outputId": "128e3517-fec8-44aa-b0ee-a2e032b2ea03"
      },
      "outputs": [
        {
          "output_type": "execute_result",
          "data": {
            "text/plain": [
              "Text(0.5, 1.0, 'Attack Labels vs Connection Point')"
            ]
          },
          "metadata": {},
          "execution_count": 151
        },
        {
          "output_type": "display_data",
          "data": {
            "text/plain": [
              "<Figure size 576x360 with 1 Axes>"
            ],
            "image/png": "[encoded data removed]"
          },
          "metadata": {
            "needs_background": "light"
          }
        }
      ],
      "source": [
        "plt.figure(figsize=(8,5))\n",
        "sns.boxplot(x='Label',y='Connection Point',data=dataset, palette='rainbow')\n",
        "plt.title(\"Attack Labels vs Connection Point\")"
      ]
    },
    {
      "cell_type": "code",
      "source": [
        "plt.figure(figsize=(8,5))\n",
        "sns.barplot(x='Connection Point',y='Port alive Duration (S)',data=dataset, palette='rainbow', hue ='Binary Label')\n",
        "plt.title(\"Binary Label on two numeric columns\")"
      ],
      "metadata": {
        "colab": {
          "base_uri": "https://localhost:8080/"
        },
        "id": "BNlBNLA0zhK7",
        "outputId": "a8dfa922-fda5-482b-d9c4-e419295ba7fa"
      },
      "execution_count": null,
      "outputs": [
        {
          "output_type": "execute_result",
          "data": {
            "text/plain": [
              "Text(0.5, 1.0, 'Binary Label on two numeric columns')"
            ]
          },
          "metadata": {},
          "execution_count": 152
        },
        {
          "output_type": "display_data",
          "data": {
            "text/plain": [
              "<Figure size 576x360 with 1 Axes>"
            ],
            "image/png": "[encoded data removed]"
          },
          "metadata": {
            "needs_background": "light"
          }
        }
      ]
    },
    {
      "cell_type": "markdown",
      "metadata": {
        "id": "4KTs89pxrdnp"
      },
      "source": [
        "## Feature Selection"
      ]
    },
    {
      "cell_type": "code",
      "execution_count": null,
      "metadata": {
        "colab": {
          "base_uri": "https://localhost:8080/"
        },
        "id": "FnCmxEolrmNs",
        "outputId": "6a6c6748-c002-4555-a6bb-c98130908267"
      },
      "outputs": [
        {
          "output_type": "execute_result",
          "data": {
            "text/plain": [
              "                               Received Packets  Received Bytes  Sent Bytes  \\\n",
              "Received Packets                       1.000000        0.235931    0.263276   \n",
              "Received Bytes                         0.235931        1.000000    0.678341   \n",
              "Sent Bytes                             0.263276        0.678341    1.000000   \n",
              "Sent Packets                           0.585578        0.393544    0.492114   \n",
              "Port alive Duration (S)                0.201716        0.753177    0.744272   \n",
              "Delta Received Packets                 0.178632        0.042367    0.072000   \n",
              "Delta Received Bytes                   0.009830        0.098901    0.005275   \n",
              "Delta Sent Bytes                       0.000463        0.007656    0.087682   \n",
              "Delta Sent Packets                     0.086540        0.063304    0.039423   \n",
              "Delta Port alive Duration (S)          0.068982        0.013239    0.025379   \n",
              "Connection Point                       0.143162        0.112916    0.038600   \n",
              "Total Load/Rate                        0.020503        0.021954    0.030343   \n",
              "Total Load/Latest                      0.033358        0.005309    0.030538   \n",
              "Unknown Load/Rate                      0.020503        0.021954    0.030343   \n",
              "Unknown Load/Latest                    0.033358        0.005309    0.030538   \n",
              "Latest bytes counter                   0.020503        0.021954    0.030343   \n",
              "Active Flow Entries                    0.032871        0.033760    0.032480   \n",
              "Packets Looked Up                      0.737932        0.378620    0.452300   \n",
              "Packets Matched                        0.737933        0.378530    0.452223   \n",
              "\n",
              "                               Sent Packets  Port alive Duration (S)  \\\n",
              "Received Packets                   0.585578                 0.201716   \n",
              "Received Bytes                     0.393544                 0.753177   \n",
              "Sent Bytes                         0.492114                 0.744272   \n",
              "Sent Packets                       1.000000                 0.291104   \n",
              "Port alive Duration (S)            0.291104                 1.000000   \n",
              "Delta Received Packets             0.034219                 0.124533   \n",
              "Delta Received Bytes               0.011125                 0.011960   \n",
              "Delta Sent Bytes                   0.020418                 0.008339   \n",
              "Delta Sent Packets                 0.103534                 0.118922   \n",
              "Delta Port alive Duration (S)      0.094366                 0.005844   \n",
              "Connection Point                   0.037271                 0.161257   \n",
              "Total Load/Rate                    0.021972                 0.003296   \n",
              "Total Load/Latest                  0.025320                 0.024441   \n",
              "Unknown Load/Rate                  0.021972                 0.003296   \n",
              "Unknown Load/Latest                0.025320                 0.024441   \n",
              "Latest bytes counter               0.021972                 0.003296   \n",
              "Active Flow Entries                0.038064                 0.031836   \n",
              "Packets Looked Up                  0.936095                 0.287166   \n",
              "Packets Matched                    0.936094                 0.287050   \n",
              "\n",
              "                               Delta Received Packets  Delta Received Bytes  \\\n",
              "Received Packets                             0.178632              0.009830   \n",
              "Received Bytes                               0.042367              0.098901   \n",
              "Sent Bytes                                   0.072000              0.005275   \n",
              "Sent Packets                                 0.034219              0.011125   \n",
              "Port alive Duration (S)                      0.124533              0.011960   \n",
              "Delta Received Packets                       1.000000              0.098319   \n",
              "Delta Received Bytes                         0.098319              1.000000   \n",
              "Delta Sent Bytes                             0.037238              0.070402   \n",
              "Delta Sent Packets                           0.600443              0.035802   \n",
              "Delta Port alive Duration (S)                0.010933              0.004953   \n",
              "Connection Point                             0.002523              0.014501   \n",
              "Total Load/Rate                              0.014579              0.008069   \n",
              "Total Load/Latest                            0.022130              0.001920   \n",
              "Unknown Load/Rate                            0.014579              0.008069   \n",
              "Unknown Load/Latest                          0.022130              0.001920   \n",
              "Latest bytes counter                         0.014579              0.008069   \n",
              "Active Flow Entries                          0.017069              0.008300   \n",
              "Packets Looked Up                            0.044765              0.007832   \n",
              "Packets Matched                              0.044780              0.007830   \n",
              "\n",
              "                               Delta Sent Bytes  Delta Sent Packets  \\\n",
              "Received Packets                       0.000463            0.086540   \n",
              "Received Bytes                         0.007656            0.063304   \n",
              "Sent Bytes                             0.087682            0.039423   \n",
              "Sent Packets                           0.020418            0.103534   \n",
              "Port alive Duration (S)                0.008339            0.118922   \n",
              "Delta Received Packets                 0.037238            0.600443   \n",
              "Delta Received Bytes                   0.070402            0.035802   \n",
              "Delta Sent Bytes                       1.000000            0.105281   \n",
              "Delta Sent Packets                     0.105281            1.000000   \n",
              "Delta Port alive Duration (S)          0.000359            0.007505   \n",
              "Connection Point                       0.028580            0.032092   \n",
              "Total Load/Rate                        0.266750            0.011551   \n",
              "Total Load/Latest                      0.197357            0.019009   \n",
              "Unknown Load/Rate                      0.266750            0.011551   \n",
              "Unknown Load/Latest                    0.197357            0.019009   \n",
              "Latest bytes counter                   0.266750            0.011551   \n",
              "Active Flow Entries                    0.007258            0.016079   \n",
              "Packets Looked Up                      0.005916            0.041024   \n",
              "Packets Matched                        0.005916            0.041039   \n",
              "\n",
              "                               Delta Port alive Duration (S)  \\\n",
              "Received Packets                                    0.068982   \n",
              "Received Bytes                                      0.013239   \n",
              "Sent Bytes                                          0.025379   \n",
              "Sent Packets                                        0.094366   \n",
              "Port alive Duration (S)                             0.005844   \n",
              "Delta Received Packets                              0.010933   \n",
              "Delta Received Bytes                                0.004953   \n",
              "Delta Sent Bytes                                    0.000359   \n",
              "Delta Sent Packets                                  0.007505   \n",
              "Delta Port alive Duration (S)                       1.000000   \n",
              "Connection Point                                    0.000686   \n",
              "Total Load/Rate                                     0.002853   \n",
              "Total Load/Latest                                   0.007732   \n",
              "Unknown Load/Rate                                   0.002853   \n",
              "Unknown Load/Latest                                 0.007732   \n",
              "Latest bytes counter                                0.002853   \n",
              "Active Flow Entries                                 0.050385   \n",
              "Packets Looked Up                                   0.093856   \n",
              "Packets Matched                                     0.093863   \n",
              "\n",
              "                               Connection Point  Total Load/Rate  \\\n",
              "Received Packets                       0.143162         0.020503   \n",
              "Received Bytes                         0.112916         0.021954   \n",
              "Sent Bytes                             0.038600         0.030343   \n",
              "Sent Packets                           0.037271         0.021972   \n",
              "Port alive Duration (S)                0.161257         0.003296   \n",
              "Delta Received Packets                 0.002523         0.014579   \n",
              "Delta Received Bytes                   0.014501         0.008069   \n",
              "Delta Sent Bytes                       0.028580         0.266750   \n",
              "Delta Sent Packets                     0.032092         0.011551   \n",
              "Delta Port alive Duration (S)          0.000686         0.002853   \n",
              "Connection Point                       1.000000         0.006737   \n",
              "Total Load/Rate                        0.006737         1.000000   \n",
              "Total Load/Latest                      0.015199         0.648665   \n",
              "Unknown Load/Rate                      0.006737         1.000000   \n",
              "Unknown Load/Latest                    0.015199         0.648665   \n",
              "Latest bytes counter                   0.006737         1.000000   \n",
              "Active Flow Entries                    0.002462         0.003918   \n",
              "Packets Looked Up                      0.009662         0.020908   \n",
              "Packets Matched                        0.009603         0.020910   \n",
              "\n",
              "                               Total Load/Latest  Unknown Load/Rate  \\\n",
              "Received Packets                        0.033358           0.020503   \n",
              "Received Bytes                          0.005309           0.021954   \n",
              "Sent Bytes                              0.030538           0.030343   \n",
              "Sent Packets                            0.025320           0.021972   \n",
              "Port alive Duration (S)                 0.024441           0.003296   \n",
              "Delta Received Packets                  0.022130           0.014579   \n",
              "Delta Received Bytes                    0.001920           0.008069   \n",
              "Delta Sent Bytes                        0.197357           0.266750   \n",
              "Delta Sent Packets                      0.019009           0.011551   \n",
              "Delta Port alive Duration (S)           0.007732           0.002853   \n",
              "Connection Point                        0.015199           0.006737   \n",
              "Total Load/Rate                         0.648665           1.000000   \n",
              "Total Load/Latest                       1.000000           0.648665   \n",
              "Unknown Load/Rate                       0.648665           1.000000   \n",
              "Unknown Load/Latest                     1.000000           0.648665   \n",
              "Latest bytes counter                    0.648665           1.000000   \n",
              "Active Flow Entries                     0.001072           0.003918   \n",
              "Packets Looked Up                       0.023909           0.020908   \n",
              "Packets Matched                         0.023916           0.020910   \n",
              "\n",
              "                               Unknown Load/Latest  Latest bytes counter  \\\n",
              "Received Packets                          0.033358              0.020503   \n",
              "Received Bytes                            0.005309              0.021954   \n",
              "Sent Bytes                                0.030538              0.030343   \n",
              "Sent Packets                              0.025320              0.021972   \n",
              "Port alive Duration (S)                   0.024441              0.003296   \n",
              "Delta Received Packets                    0.022130              0.014579   \n",
              "Delta Received Bytes                      0.001920              0.008069   \n",
              "Delta Sent Bytes                          0.197357              0.266750   \n",
              "Delta Sent Packets                        0.019009              0.011551   \n",
              "Delta Port alive Duration (S)             0.007732              0.002853   \n",
              "Connection Point                          0.015199              0.006737   \n",
              "Total Load/Rate                           0.648665              1.000000   \n",
              "Total Load/Latest                         1.000000              0.648665   \n",
              "Unknown Load/Rate                         0.648665              1.000000   \n",
              "Unknown Load/Latest                       1.000000              0.648665   \n",
              "Latest bytes counter                      0.648665              1.000000   \n",
              "Active Flow Entries                       0.001072              0.003918   \n",
              "Packets Looked Up                         0.023909              0.020908   \n",
              "Packets Matched                           0.023916              0.020910   \n",
              "\n",
              "                               Active Flow Entries  Packets Looked Up  \\\n",
              "Received Packets                          0.032871           0.737932   \n",
              "Received Bytes                            0.033760           0.378620   \n",
              "Sent Bytes                                0.032480           0.452300   \n",
              "Sent Packets                              0.038064           0.936095   \n",
              "Port alive Duration (S)                   0.031836           0.287166   \n",
              "Delta Received Packets                    0.017069           0.044765   \n",
              "Delta Received Bytes                      0.008300           0.007832   \n",
              "Delta Sent Bytes                          0.007258           0.005916   \n",
              "Delta Sent Packets                        0.016079           0.041024   \n",
              "Delta Port alive Duration (S)             0.050385           0.093856   \n",
              "Connection Point                          0.002462           0.009662   \n",
              "Total Load/Rate                           0.003918           0.020908   \n",
              "Total Load/Latest                         0.001072           0.023909   \n",
              "Unknown Load/Rate                         0.003918           0.020908   \n",
              "Unknown Load/Latest                       0.001072           0.023909   \n",
              "Latest bytes counter                      0.003918           0.020908   \n",
              "Active Flow Entries                       1.000000           0.042595   \n",
              "Packets Looked Up                         0.042595           1.000000   \n",
              "Packets Matched                           0.042590           1.000000   \n",
              "\n",
              "                               Packets Matched  \n",
              "Received Packets                      0.737933  \n",
              "Received Bytes                        0.378530  \n",
              "Sent Bytes                            0.452223  \n",
              "Sent Packets                          0.936094  \n",
              "Port alive Duration (S)               0.287050  \n",
              "Delta Received Packets                0.044780  \n",
              "Delta Received Bytes                  0.007830  \n",
              "Delta Sent Bytes                      0.005916  \n",
              "Delta Sent Packets                    0.041039  \n",
              "Delta Port alive Duration (S)         0.093863  \n",
              "Connection Point                      0.009603  \n",
              "Total Load/Rate                       0.020910  \n",
              "Total Load/Latest                     0.023916  \n",
              "Unknown Load/Rate                     0.020910  \n",
              "Unknown Load/Latest                   0.023916  \n",
              "Latest bytes counter                  0.020910  \n",
              "Active Flow Entries                   0.042590  \n",
              "Packets Looked Up                     1.000000  \n",
              "Packets Matched                       1.000000  "
            ],
            "text/html": [
              "\n",
              "  <div id=\"df-c2821286-f59e-4f90-a49d-1da74e7a0d97\">\n",
              "    <div class=\"colab-df-container\">\n",
              "      <div>\n",
              "<style scoped>\n",
              "    .dataframe tbody tr th:only-of-type {\n",
              "        vertical-align: middle;\n",
              "    }\n",
              "\n",
              "    .dataframe tbody tr th {\n",
              "        vertical-align: top;\n",
              "    }\n",
              "\n",
              "    .dataframe thead th {\n",
              "        text-align: right;\n",
              "    }\n",
              "</style>\n",
              "<table border=\"1\" class=\"dataframe\">\n",
              "  <thead>\n",
              "    <tr style=\"text-align: right;\">\n",
              "      <th></th>\n",
              "      <th>Received Packets</th>\n",
              "      <th>Received Bytes</th>\n",
              "      <th>Sent Bytes</th>\n",
              "      <th>Sent Packets</th>\n",
              "      <th>Port alive Duration (S)</th>\n",
              "      <th>Delta Received Packets</th>\n",
              "      <th>Delta Received Bytes</th>\n",
              "      <th>Delta Sent Bytes</th>\n",
              "      <th>Delta Sent Packets</th>\n",
              "      <th>Delta Port alive Duration (S)</th>\n",
              "      <th>Connection Point</th>\n",
              "      <th>Total Load/Rate</th>\n",
              "      <th>Total Load/Latest</th>\n",
              "      <th>Unknown Load/Rate</th>\n",
              "      <th>Unknown Load/Latest</th>\n",
              "      <th>Latest bytes counter</th>\n",
              "      <th>Active Flow Entries</th>\n",
              "      <th>Packets Looked Up</th>\n",
              "      <th>Packets Matched</th>\n",
              "    </tr>\n",
              "  </thead>\n",
              "  <tbody>\n",
              "    <tr>\n",
              "      <th>Received Packets</th>\n",
              "      <td>1.000000</td>\n",
              "      <td>0.235931</td>\n",
              "      <td>0.263276</td>\n",
              "      <td>0.585578</td>\n",
              "      <td>0.201716</td>\n",
              "      <td>0.178632</td>\n",
              "      <td>0.009830</td>\n",
              "      <td>0.000463</td>\n",
              "      <td>0.086540</td>\n",
              "      <td>0.068982</td>\n",
              "      <td>0.143162</td>\n",
              "      <td>0.020503</td>\n",
              "      <td>0.033358</td>\n",
              "      <td>0.020503</td>\n",
              "      <td>0.033358</td>\n",
              "      <td>0.020503</td>\n",
              "      <td>0.032871</td>\n",
              "      <td>0.737932</td>\n",
              "      <td>0.737933</td>\n",
              "    </tr>\n",
              "    <tr>\n",
              "      <th>Received Bytes</th>\n",
              "      <td>0.235931</td>\n",
              "      <td>1.000000</td>\n",
              "      <td>0.678341</td>\n",
              "      <td>0.393544</td>\n",
              "      <td>0.753177</td>\n",
              "      <td>0.042367</td>\n",
              "      <td>0.098901</td>\n",
              "      <td>0.007656</td>\n",
              "      <td>0.063304</td>\n",
              "      <td>0.013239</td>\n",
              "      <td>0.112916</td>\n",
              "      <td>0.021954</td>\n",
              "      <td>0.005309</td>\n",
              "      <td>0.021954</td>\n",
              "      <td>0.005309</td>\n",
              "      <td>0.021954</td>\n",
              "      <td>0.033760</td>\n",
              "      <td>0.378620</td>\n",
              "      <td>0.378530</td>\n",
              "    </tr>\n",
              "    <tr>\n",
              "      <th>Sent Bytes</th>\n",
              "      <td>0.263276</td>\n",
              "      <td>0.678341</td>\n",
              "      <td>1.000000</td>\n",
              "      <td>0.492114</td>\n",
              "      <td>0.744272</td>\n",
              "      <td>0.072000</td>\n",
              "      <td>0.005275</td>\n",
              "      <td>0.087682</td>\n",
              "      <td>0.039423</td>\n",
              "      <td>0.025379</td>\n",
              "      <td>0.038600</td>\n",
              "      <td>0.030343</td>\n",
              "      <td>0.030538</td>\n",
              "      <td>0.030343</td>\n",
              "      <td>0.030538</td>\n",
              "      <td>0.030343</td>\n",
              "      <td>0.032480</td>\n",
              "      <td>0.452300</td>\n",
              "      <td>0.452223</td>\n",
              "    </tr>\n",
              "    <tr>\n",
              "      <th>Sent Packets</th>\n",
              "      <td>0.585578</td>\n",
              "      <td>0.393544</td>\n",
              "      <td>0.492114</td>\n",
              "      <td>1.000000</td>\n",
              "      <td>0.291104</td>\n",
              "      <td>0.034219</td>\n",
              "      <td>0.011125</td>\n",
              "      <td>0.020418</td>\n",
              "      <td>0.103534</td>\n",
              "      <td>0.094366</td>\n",
              "      <td>0.037271</td>\n",
              "      <td>0.021972</td>\n",
              "      <td>0.025320</td>\n",
              "      <td>0.021972</td>\n",
              "      <td>0.025320</td>\n",
              "      <td>0.021972</td>\n",
              "      <td>0.038064</td>\n",
              "      <td>0.936095</td>\n",
              "      <td>0.936094</td>\n",
              "    </tr>\n",
              "    <tr>\n",
              "      <th>Port alive Duration (S)</th>\n",
              "      <td>0.201716</td>\n",
              "      <td>0.753177</td>\n",
              "      <td>0.744272</td>\n",
              "      <td>0.291104</td>\n",
              "      <td>1.000000</td>\n",
              "      <td>0.124533</td>\n",
              "      <td>0.011960</td>\n",
              "      <td>0.008339</td>\n",
              "      <td>0.118922</td>\n",
              "      <td>0.005844</td>\n",
              "      <td>0.161257</td>\n",
              "      <td>0.003296</td>\n",
              "      <td>0.024441</td>\n",
              "      <td>0.003296</td>\n",
              "      <td>0.024441</td>\n",
              "      <td>0.003296</td>\n",
              "      <td>0.031836</td>\n",
              "      <td>0.287166</td>\n",
              "      <td>0.287050</td>\n",
              "    </tr>\n",
              "    <tr>\n",
              "      <th>Delta Received Packets</th>\n",
              "      <td>0.178632</td>\n",
              "      <td>0.042367</td>\n",
              "      <td>0.072000</td>\n",
              "      <td>0.034219</td>\n",
              "      <td>0.124533</td>\n",
              "      <td>1.000000</td>\n",
              "      <td>0.098319</td>\n",
              "      <td>0.037238</td>\n",
              "      <td>0.600443</td>\n",
              "      <td>0.010933</td>\n",
              "      <td>0.002523</td>\n",
              "      <td>0.014579</td>\n",
              "      <td>0.022130</td>\n",
              "      <td>0.014579</td>\n",
              "      <td>0.022130</td>\n",
              "      <td>0.014579</td>\n",
              "      <td>0.017069</td>\n",
              "      <td>0.044765</td>\n",
              "      <td>0.044780</td>\n",
              "    </tr>\n",
              "    <tr>\n",
              "      <th>Delta Received Bytes</th>\n",
              "      <td>0.009830</td>\n",
              "      <td>0.098901</td>\n",
              "      <td>0.005275</td>\n",
              "      <td>0.011125</td>\n",
              "      <td>0.011960</td>\n",
              "      <td>0.098319</td>\n",
              "      <td>1.000000</td>\n",
              "      <td>0.070402</td>\n",
              "      <td>0.035802</td>\n",
              "      <td>0.004953</td>\n",
              "      <td>0.014501</td>\n",
              "      <td>0.008069</td>\n",
              "      <td>0.001920</td>\n",
              "      <td>0.008069</td>\n",
              "      <td>0.001920</td>\n",
              "      <td>0.008069</td>\n",
              "      <td>0.008300</td>\n",
              "      <td>0.007832</td>\n",
              "      <td>0.007830</td>\n",
              "    </tr>\n",
              "    <tr>\n",
              "      <th>Delta Sent Bytes</th>\n",
              "      <td>0.000463</td>\n",
              "      <td>0.007656</td>\n",
              "      <td>0.087682</td>\n",
              "      <td>0.020418</td>\n",
              "      <td>0.008339</td>\n",
              "      <td>0.037238</td>\n",
              "      <td>0.070402</td>\n",
              "      <td>1.000000</td>\n",
              "      <td>0.105281</td>\n",
              "      <td>0.000359</td>\n",
              "      <td>0.028580</td>\n",
              "      <td>0.266750</td>\n",
              "      <td>0.197357</td>\n",
              "      <td>0.266750</td>\n",
              "      <td>0.197357</td>\n",
              "      <td>0.266750</td>\n",
              "      <td>0.007258</td>\n",
              "      <td>0.005916</td>\n",
              "      <td>0.005916</td>\n",
              "    </tr>\n",
              "    <tr>\n",
              "      <th>Delta Sent Packets</th>\n",
              "      <td>0.086540</td>\n",
              "      <td>0.063304</td>\n",
              "      <td>0.039423</td>\n",
              "      <td>0.103534</td>\n",
              "      <td>0.118922</td>\n",
              "      <td>0.600443</td>\n",
              "      <td>0.035802</td>\n",
              "      <td>0.105281</td>\n",
              "      <td>1.000000</td>\n",
              "      <td>0.007505</td>\n",
              "      <td>0.032092</td>\n",
              "      <td>0.011551</td>\n",
              "      <td>0.019009</td>\n",
              "      <td>0.011551</td>\n",
              "      <td>0.019009</td>\n",
              "      <td>0.011551</td>\n",
              "      <td>0.016079</td>\n",
              "      <td>0.041024</td>\n",
              "      <td>0.041039</td>\n",
              "    </tr>\n",
              "    <tr>\n",
              "      <th>Delta Port alive Duration (S)</th>\n",
              "      <td>0.068982</td>\n",
              "      <td>0.013239</td>\n",
              "      <td>0.025379</td>\n",
              "      <td>0.094366</td>\n",
              "      <td>0.005844</td>\n",
              "      <td>0.010933</td>\n",
              "      <td>0.004953</td>\n",
              "      <td>0.000359</td>\n",
              "      <td>0.007505</td>\n",
              "      <td>1.000000</td>\n",
              "      <td>0.000686</td>\n",
              "      <td>0.002853</td>\n",
              "      <td>0.007732</td>\n",
              "      <td>0.002853</td>\n",
              "      <td>0.007732</td>\n",
              "      <td>0.002853</td>\n",
              "      <td>0.050385</td>\n",
              "      <td>0.093856</td>\n",
              "      <td>0.093863</td>\n",
              "    </tr>\n",
              "    <tr>\n",
              "      <th>Connection Point</th>\n",
              "      <td>0.143162</td>\n",
              "      <td>0.112916</td>\n",
              "      <td>0.038600</td>\n",
              "      <td>0.037271</td>\n",
              "      <td>0.161257</td>\n",
              "      <td>0.002523</td>\n",
              "      <td>0.014501</td>\n",
              "      <td>0.028580</td>\n",
              "      <td>0.032092</td>\n",
              "      <td>0.000686</td>\n",
              "      <td>1.000000</td>\n",
              "      <td>0.006737</td>\n",
              "      <td>0.015199</td>\n",
              "      <td>0.006737</td>\n",
              "      <td>0.015199</td>\n",
              "      <td>0.006737</td>\n",
              "      <td>0.002462</td>\n",
              "      <td>0.009662</td>\n",
              "      <td>0.009603</td>\n",
              "    </tr>\n",
              "    <tr>\n",
              "      <th>Total Load/Rate</th>\n",
              "      <td>0.020503</td>\n",
              "      <td>0.021954</td>\n",
              "      <td>0.030343</td>\n",
              "      <td>0.021972</td>\n",
              "      <td>0.003296</td>\n",
              "      <td>0.014579</td>\n",
              "      <td>0.008069</td>\n",
              "      <td>0.266750</td>\n",
              "      <td>0.011551</td>\n",
              "      <td>0.002853</td>\n",
              "      <td>0.006737</td>\n",
              "      <td>1.000000</td>\n",
              "      <td>0.648665</td>\n",
              "      <td>1.000000</td>\n",
              "      <td>0.648665</td>\n",
              "      <td>1.000000</td>\n",
              "      <td>0.003918</td>\n",
              "      <td>0.020908</td>\n",
              "      <td>0.020910</td>\n",
              "    </tr>\n",
              "    <tr>\n",
              "      <th>Total Load/Latest</th>\n",
              "      <td>0.033358</td>\n",
              "      <td>0.005309</td>\n",
              "      <td>0.030538</td>\n",
              "      <td>0.025320</td>\n",
              "      <td>0.024441</td>\n",
              "      <td>0.022130</td>\n",
              "      <td>0.001920</td>\n",
              "      <td>0.197357</td>\n",
              "      <td>0.019009</td>\n",
              "      <td>0.007732</td>\n",
              "      <td>0.015199</td>\n",
              "      <td>0.648665</td>\n",
              "      <td>1.000000</td>\n",
              "      <td>0.648665</td>\n",
              "      <td>1.000000</td>\n",
              "      <td>0.648665</td>\n",
              "      <td>0.001072</td>\n",
              "      <td>0.023909</td>\n",
              "      <td>0.023916</td>\n",
              "    </tr>\n",
              "    <tr>\n",
              "      <th>Unknown Load/Rate</th>\n",
              "      <td>0.020503</td>\n",
              "      <td>0.021954</td>\n",
              "      <td>0.030343</td>\n",
              "      <td>0.021972</td>\n",
              "      <td>0.003296</td>\n",
              "      <td>0.014579</td>\n",
              "      <td>0.008069</td>\n",
              "      <td>0.266750</td>\n",
              "      <td>0.011551</td>\n",
              "      <td>0.002853</td>\n",
              "      <td>0.006737</td>\n",
              "      <td>1.000000</td>\n",
              "      <td>0.648665</td>\n",
              "      <td>1.000000</td>\n",
              "      <td>0.648665</td>\n",
              "      <td>1.000000</td>\n",
              "      <td>0.003918</td>\n",
              "      <td>0.020908</td>\n",
              "      <td>0.020910</td>\n",
              "    </tr>\n",
              "    <tr>\n",
              "      <th>Unknown Load/Latest</th>\n",
              "      <td>0.033358</td>\n",
              "      <td>0.005309</td>\n",
              "      <td>0.030538</td>\n",
              "      <td>0.025320</td>\n",
              "      <td>0.024441</td>\n",
              "      <td>0.022130</td>\n",
              "      <td>0.001920</td>\n",
              "      <td>0.197357</td>\n",
              "      <td>0.019009</td>\n",
              "      <td>0.007732</td>\n",
              "      <td>0.015199</td>\n",
              "      <td>0.648665</td>\n",
              "      <td>1.000000</td>\n",
              "      <td>0.648665</td>\n",
              "      <td>1.000000</td>\n",
              "      <td>0.648665</td>\n",
              "      <td>0.001072</td>\n",
              "      <td>0.023909</td>\n",
              "      <td>0.023916</td>\n",
              "    </tr>\n",
              "    <tr>\n",
              "      <th>Latest bytes counter</th>\n",
              "      <td>0.020503</td>\n",
              "      <td>0.021954</td>\n",
              "      <td>0.030343</td>\n",
              "      <td>0.021972</td>\n",
              "      <td>0.003296</td>\n",
              "      <td>0.014579</td>\n",
              "      <td>0.008069</td>\n",
              "      <td>0.266750</td>\n",
              "      <td>0.011551</td>\n",
              "      <td>0.002853</td>\n",
              "      <td>0.006737</td>\n",
              "      <td>1.000000</td>\n",
              "      <td>0.648665</td>\n",
              "      <td>1.000000</td>\n",
              "      <td>0.648665</td>\n",
              "      <td>1.000000</td>\n",
              "      <td>0.003918</td>\n",
              "      <td>0.020908</td>\n",
              "      <td>0.020910</td>\n",
              "    </tr>\n",
              "    <tr>\n",
              "      <th>Active Flow Entries</th>\n",
              "      <td>0.032871</td>\n",
              "      <td>0.033760</td>\n",
              "      <td>0.032480</td>\n",
              "      <td>0.038064</td>\n",
              "      <td>0.031836</td>\n",
              "      <td>0.017069</td>\n",
              "      <td>0.008300</td>\n",
              "      <td>0.007258</td>\n",
              "      <td>0.016079</td>\n",
              "      <td>0.050385</td>\n",
              "      <td>0.002462</td>\n",
              "      <td>0.003918</td>\n",
              "      <td>0.001072</td>\n",
              "      <td>0.003918</td>\n",
              "      <td>0.001072</td>\n",
              "      <td>0.003918</td>\n",
              "      <td>1.000000</td>\n",
              "      <td>0.042595</td>\n",
              "      <td>0.042590</td>\n",
              "    </tr>\n",
              "    <tr>\n",
              "      <th>Packets Looked Up</th>\n",
              "      <td>0.737932</td>\n",
              "      <td>0.378620</td>\n",
              "      <td>0.452300</td>\n",
              "      <td>0.936095</td>\n",
              "      <td>0.287166</td>\n",
              "      <td>0.044765</td>\n",
              "      <td>0.007832</td>\n",
              "      <td>0.005916</td>\n",
              "      <td>0.041024</td>\n",
              "      <td>0.093856</td>\n",
              "      <td>0.009662</td>\n",
              "      <td>0.020908</td>\n",
              "      <td>0.023909</td>\n",
              "      <td>0.020908</td>\n",
              "      <td>0.023909</td>\n",
              "      <td>0.020908</td>\n",
              "      <td>0.042595</td>\n",
              "      <td>1.000000</td>\n",
              "      <td>1.000000</td>\n",
              "    </tr>\n",
              "    <tr>\n",
              "      <th>Packets Matched</th>\n",
              "      <td>0.737933</td>\n",
              "      <td>0.378530</td>\n",
              "      <td>0.452223</td>\n",
              "      <td>0.936094</td>\n",
              "      <td>0.287050</td>\n",
              "      <td>0.044780</td>\n",
              "      <td>0.007830</td>\n",
              "      <td>0.005916</td>\n",
              "      <td>0.041039</td>\n",
              "      <td>0.093863</td>\n",
              "      <td>0.009603</td>\n",
              "      <td>0.020910</td>\n",
              "      <td>0.023916</td>\n",
              "      <td>0.020910</td>\n",
              "      <td>0.023916</td>\n",
              "      <td>0.020910</td>\n",
              "      <td>0.042590</td>\n",
              "      <td>1.000000</td>\n",
              "      <td>1.000000</td>\n",
              "    </tr>\n",
              "  </tbody>\n",
              "</table>\n",
              "</div>\n",
              "      <button class=\"colab-df-convert\" onclick=\"convertToInteractive('df-c2821286-f59e-4f90-a49d-1da74e7a0d97')\"\n",
              "              title=\"Convert this dataframe to an interactive table.\"\n",
              "              style=\"display:none;\">\n",
              "        \n",
              "  <svg xmlns=\"http://www.w3.org/2000/svg\" height=\"24px\"viewBox=\"0 0 24 24\"\n",
              "       width=\"24px\">\n",
              "    <path d=\"M0 0h24v24H0V0z\" fill=\"none\"/>\n",
              "    <path d=\"M18.56 5.44l.94 2.06.94-2.06 2.06-.94-2.06-.94-.94-2.06-.94 2.06-2.06.94zm-11 1L8.5 8.5l.94-2.06 2.06-.94-2.06-.94L8.5 2.5l-.94 2.06-2.06.94zm10 10l.94 2.06.94-2.06 2.06-.94-2.06-.94-.94-2.06-.94 2.06-2.06.94z\"/><path d=\"M17.41 7.96l-1.37-1.37c-.4-.4-.92-.59-1.43-.59-.52 0-1.04.2-1.43.59L10.3 9.45l-7.72 7.72c-.78.78-.78 2.05 0 2.83L4 21.41c.39.39.9.59 1.41.59.51 0 1.02-.2 1.41-.59l7.78-7.78 2.81-2.81c.8-.78.8-2.07 0-2.86zM5.41 20L4 18.59l7.72-7.72 1.47 1.35L5.41 20z\"/>\n",
              "  </svg>\n",
              "      </button>\n",
              "      \n",
              "  <style>\n",
              "    .colab-df-container {\n",
              "      display:flex;\n",
              "      flex-wrap:wrap;\n",
              "      gap: 12px;\n",
              "    }\n",
              "\n",
              "    .colab-df-convert {\n",
              "      background-color: #E8F0FE;\n",
              "      border: none;\n",
              "      border-radius: 50%;\n",
              "      cursor: pointer;\n",
              "      display: none;\n",
              "      fill: #1967D2;\n",
              "      height: 32px;\n",
              "      padding: 0 0 0 0;\n",
              "      width: 32px;\n",
              "    }\n",
              "\n",
              "    .colab-df-convert:hover {\n",
              "      background-color: #E2EBFA;\n",
              "      box-shadow: 0px 1px 2px rgba(60, 64, 67, 0.3), 0px 1px 3px 1px rgba(60, 64, 67, 0.15);\n",
              "      fill: #174EA6;\n",
              "    }\n",
              "\n",
              "    [theme=dark] .colab-df-convert {\n",
              "      background-color: #3B4455;\n",
              "      fill: #D2E3FC;\n",
              "    }\n",
              "\n",
              "    [theme=dark] .colab-df-convert:hover {\n",
              "      background-color: #434B5C;\n",
              "      box-shadow: 0px 1px 3px 1px rgba(0, 0, 0, 0.15);\n",
              "      filter: drop-shadow(0px 1px 2px rgba(0, 0, 0, 0.3));\n",
              "      fill: #FFFFFF;\n",
              "    }\n",
              "  </style>\n",
              "\n",
              "      <script>\n",
              "        const buttonEl =\n",
              "          document.querySelector('#df-c2821286-f59e-4f90-a49d-1da74e7a0d97 button.colab-df-convert');\n",
              "        buttonEl.style.display =\n",
              "          google.colab.kernel.accessAllowed ? 'block' : 'none';\n",
              "\n",
              "        async function convertToInteractive(key) {\n",
              "          const element = document.querySelector('#df-c2821286-f59e-4f90-a49d-1da74e7a0d97');\n",
              "          const dataTable =\n",
              "            await google.colab.kernel.invokeFunction('convertToInteractive',\n",
              "                                                     [key], {});\n",
              "          if (!dataTable) return;\n",
              "\n",
              "          const docLinkHtml = 'Like what you see? Visit the ' +\n",
              "            '<a target=\"_blank\" href=https://colab.research.google.com/notebooks/data_table.ipynb>data table notebook</a>'\n",
              "            + ' to learn more about interactive tables.';\n",
              "          element.innerHTML = '';\n",
              "          dataTable['output_type'] = 'display_data';\n",
              "          await google.colab.output.renderOutput(dataTable, element);\n",
              "          const docLink = document.createElement('div');\n",
              "          docLink.innerHTML = docLinkHtml;\n",
              "          element.appendChild(docLink);\n",
              "        }\n",
              "      </script>\n",
              "    </div>\n",
              "  </div>\n",
              "  "
            ]
          },
          "metadata": {},
          "execution_count": 153
        }
      ],
      "source": [
        "#To find correlation between the columns in the dataset\n",
        "dataset_corr = dataset.corr().abs()\n",
        "dataset_corr\n"
      ]
    },
    {
      "cell_type": "code",
      "execution_count": null,
      "metadata": {
        "colab": {
          "base_uri": "https://localhost:8080/"
        },
        "id": "MkuMqzWPsjvE",
        "outputId": "b87487f8-ed6e-4b66-986a-a3d7012adba8"
      },
      "outputs": [
        {
          "output_type": "display_data",
          "data": {
            "text/plain": [
              "<Figure size 720x576 with 2 Axes>"
            ],
            "image/png": "[encoded data removed]"
          },
          "metadata": {
            "needs_background": "light"
          }
        }
      ],
      "source": [
        "import seaborn as sns\n",
        "plt.figure(figsize=(10,8))\n",
        "sns.heatmap(dataset_corr)\n",
        "\n",
        "plt.show()"
      ]
    },
    {
      "cell_type": "code",
      "execution_count": null,
      "metadata": {
        "colab": {
          "base_uri": "https://localhost:8080/"
        },
        "id": "Wya7_R0rtBhG",
        "outputId": "04b8746a-863f-45c9-8716-ce2ae892a985"
      },
      "outputs": [
        {
          "output_type": "stream",
          "name": "stdout",
          "text": [
            "                               Received Packets  Received Bytes  Sent Bytes  \\\n",
            "Received Packets                            NaN             NaN         NaN   \n",
            "Received Bytes                         0.235931             NaN         NaN   \n",
            "Sent Bytes                             0.263276        0.678341         NaN   \n",
            "Sent Packets                           0.585578        0.393544    0.492114   \n",
            "Port alive Duration (S)                0.201716        0.753177    0.744272   \n",
            "Delta Received Packets                 0.178632        0.042367    0.072000   \n",
            "Delta Received Bytes                   0.009830        0.098901    0.005275   \n",
            "Delta Sent Bytes                       0.000463        0.007656    0.087682   \n",
            "Delta Sent Packets                     0.086540        0.063304    0.039423   \n",
            "Delta Port alive Duration (S)          0.068982        0.013239    0.025379   \n",
            "Connection Point                       0.143162        0.112916    0.038600   \n",
            "Total Load/Rate                        0.020503        0.021954    0.030343   \n",
            "Total Load/Latest                      0.033358        0.005309    0.030538   \n",
            "Unknown Load/Rate                      0.020503        0.021954    0.030343   \n",
            "Unknown Load/Latest                    0.033358        0.005309    0.030538   \n",
            "Latest bytes counter                   0.020503        0.021954    0.030343   \n",
            "Active Flow Entries                    0.032871        0.033760    0.032480   \n",
            "Packets Looked Up                      0.737932        0.378620    0.452300   \n",
            "Packets Matched                        0.737933        0.378530    0.452223   \n",
            "\n",
            "                               Sent Packets  Port alive Duration (S)  \\\n",
            "Received Packets                        NaN                      NaN   \n",
            "Received Bytes                          NaN                      NaN   \n",
            "Sent Bytes                              NaN                      NaN   \n",
            "Sent Packets                            NaN                      NaN   \n",
            "Port alive Duration (S)            0.291104                      NaN   \n",
            "Delta Received Packets             0.034219                 0.124533   \n",
            "Delta Received Bytes               0.011125                 0.011960   \n",
            "Delta Sent Bytes                   0.020418                 0.008339   \n",
            "Delta Sent Packets                 0.103534                 0.118922   \n",
            "Delta Port alive Duration (S)      0.094366                 0.005844   \n",
            "Connection Point                   0.037271                 0.161257   \n",
            "Total Load/Rate                    0.021972                 0.003296   \n",
            "Total Load/Latest                  0.025320                 0.024441   \n",
            "Unknown Load/Rate                  0.021972                 0.003296   \n",
            "Unknown Load/Latest                0.025320                 0.024441   \n",
            "Latest bytes counter               0.021972                 0.003296   \n",
            "Active Flow Entries                0.038064                 0.031836   \n",
            "Packets Looked Up                  0.936095                 0.287166   \n",
            "Packets Matched                    0.936094                 0.287050   \n",
            "\n",
            "                               Delta Received Packets  Delta Received Bytes  \\\n",
            "Received Packets                                  NaN                   NaN   \n",
            "Received Bytes                                    NaN                   NaN   \n",
            "Sent Bytes                                        NaN                   NaN   \n",
            "Sent Packets                                      NaN                   NaN   \n",
            "Port alive Duration (S)                           NaN                   NaN   \n",
            "Delta Received Packets                            NaN                   NaN   \n",
            "Delta Received Bytes                         0.098319                   NaN   \n",
            "Delta Sent Bytes                             0.037238              0.070402   \n",
            "Delta Sent Packets                           0.600443              0.035802   \n",
            "Delta Port alive Duration (S)                0.010933              0.004953   \n",
            "Connection Point                             0.002523              0.014501   \n",
            "Total Load/Rate                              0.014579              0.008069   \n",
            "Total Load/Latest                            0.022130              0.001920   \n",
            "Unknown Load/Rate                            0.014579              0.008069   \n",
            "Unknown Load/Latest                          0.022130              0.001920   \n",
            "Latest bytes counter                         0.014579              0.008069   \n",
            "Active Flow Entries                          0.017069              0.008300   \n",
            "Packets Looked Up                            0.044765              0.007832   \n",
            "Packets Matched                              0.044780              0.007830   \n",
            "\n",
            "                               Delta Sent Bytes  Delta Sent Packets  \\\n",
            "Received Packets                            NaN                 NaN   \n",
            "Received Bytes                              NaN                 NaN   \n",
            "Sent Bytes                                  NaN                 NaN   \n",
            "Sent Packets                                NaN                 NaN   \n",
            "Port alive Duration (S)                     NaN                 NaN   \n",
            "Delta Received Packets                      NaN                 NaN   \n",
            "Delta Received Bytes                        NaN                 NaN   \n",
            "Delta Sent Bytes                            NaN                 NaN   \n",
            "Delta Sent Packets                     0.105281                 NaN   \n",
            "Delta Port alive Duration (S)          0.000359            0.007505   \n",
            "Connection Point                       0.028580            0.032092   \n",
            "Total Load/Rate                        0.266750            0.011551   \n",
            "Total Load/Latest                      0.197357            0.019009   \n",
            "Unknown Load/Rate                      0.266750            0.011551   \n",
            "Unknown Load/Latest                    0.197357            0.019009   \n",
            "Latest bytes counter                   0.266750            0.011551   \n",
            "Active Flow Entries                    0.007258            0.016079   \n",
            "Packets Looked Up                      0.005916            0.041024   \n",
            "Packets Matched                        0.005916            0.041039   \n",
            "\n",
            "                               Delta Port alive Duration (S)  \\\n",
            "Received Packets                                         NaN   \n",
            "Received Bytes                                           NaN   \n",
            "Sent Bytes                                               NaN   \n",
            "Sent Packets                                             NaN   \n",
            "Port alive Duration (S)                                  NaN   \n",
            "Delta Received Packets                                   NaN   \n",
            "Delta Received Bytes                                     NaN   \n",
            "Delta Sent Bytes                                         NaN   \n",
            "Delta Sent Packets                                       NaN   \n",
            "Delta Port alive Duration (S)                            NaN   \n",
            "Connection Point                                    0.000686   \n",
            "Total Load/Rate                                     0.002853   \n",
            "Total Load/Latest                                   0.007732   \n",
            "Unknown Load/Rate                                   0.002853   \n",
            "Unknown Load/Latest                                 0.007732   \n",
            "Latest bytes counter                                0.002853   \n",
            "Active Flow Entries                                 0.050385   \n",
            "Packets Looked Up                                   0.093856   \n",
            "Packets Matched                                     0.093863   \n",
            "\n",
            "                               Connection Point  Total Load/Rate  \\\n",
            "Received Packets                            NaN              NaN   \n",
            "Received Bytes                              NaN              NaN   \n",
            "Sent Bytes                                  NaN              NaN   \n",
            "Sent Packets                                NaN              NaN   \n",
            "Port alive Duration (S)                     NaN              NaN   \n",
            "Delta Received Packets                      NaN              NaN   \n",
            "Delta Received Bytes                        NaN              NaN   \n",
            "Delta Sent Bytes                            NaN              NaN   \n",
            "Delta Sent Packets                          NaN              NaN   \n",
            "Delta Port alive Duration (S)               NaN              NaN   \n",
            "Connection Point                            NaN              NaN   \n",
            "Total Load/Rate                        0.006737              NaN   \n",
            "Total Load/Latest                      0.015199         0.648665   \n",
            "Unknown Load/Rate                      0.006737         1.000000   \n",
            "Unknown Load/Latest                    0.015199         0.648665   \n",
            "Latest bytes counter                   0.006737         1.000000   \n",
            "Active Flow Entries                    0.002462         0.003918   \n",
            "Packets Looked Up                      0.009662         0.020908   \n",
            "Packets Matched                        0.009603         0.020910   \n",
            "\n",
            "                               Total Load/Latest  Unknown Load/Rate  \\\n",
            "Received Packets                             NaN                NaN   \n",
            "Received Bytes                               NaN                NaN   \n",
            "Sent Bytes                                   NaN                NaN   \n",
            "Sent Packets                                 NaN                NaN   \n",
            "Port alive Duration (S)                      NaN                NaN   \n",
            "Delta Received Packets                       NaN                NaN   \n",
            "Delta Received Bytes                         NaN                NaN   \n",
            "Delta Sent Bytes                             NaN                NaN   \n",
            "Delta Sent Packets                           NaN                NaN   \n",
            "Delta Port alive Duration (S)                NaN                NaN   \n",
            "Connection Point                             NaN                NaN   \n",
            "Total Load/Rate                              NaN                NaN   \n",
            "Total Load/Latest                            NaN                NaN   \n",
            "Unknown Load/Rate                       0.648665                NaN   \n",
            "Unknown Load/Latest                     1.000000           0.648665   \n",
            "Latest bytes counter                    0.648665           1.000000   \n",
            "Active Flow Entries                     0.001072           0.003918   \n",
            "Packets Looked Up                       0.023909           0.020908   \n",
            "Packets Matched                         0.023916           0.020910   \n",
            "\n",
            "                               Unknown Load/Latest  Latest bytes counter  \\\n",
            "Received Packets                               NaN                   NaN   \n",
            "Received Bytes                                 NaN                   NaN   \n",
            "Sent Bytes                                     NaN                   NaN   \n",
            "Sent Packets                                   NaN                   NaN   \n",
            "Port alive Duration (S)                        NaN                   NaN   \n",
            "Delta Received Packets                         NaN                   NaN   \n",
            "Delta Received Bytes                           NaN                   NaN   \n",
            "Delta Sent Bytes                               NaN                   NaN   \n",
            "Delta Sent Packets                             NaN                   NaN   \n",
            "Delta Port alive Duration (S)                  NaN                   NaN   \n",
            "Connection Point                               NaN                   NaN   \n",
            "Total Load/Rate                                NaN                   NaN   \n",
            "Total Load/Latest                              NaN                   NaN   \n",
            "Unknown Load/Rate                              NaN                   NaN   \n",
            "Unknown Load/Latest                            NaN                   NaN   \n",
            "Latest bytes counter                      0.648665                   NaN   \n",
            "Active Flow Entries                       0.001072              0.003918   \n",
            "Packets Looked Up                         0.023909              0.020908   \n",
            "Packets Matched                           0.023916              0.020910   \n",
            "\n",
            "                               Active Flow Entries  Packets Looked Up  \\\n",
            "Received Packets                               NaN                NaN   \n",
            "Received Bytes                                 NaN                NaN   \n",
            "Sent Bytes                                     NaN                NaN   \n",
            "Sent Packets                                   NaN                NaN   \n",
            "Port alive Duration (S)                        NaN                NaN   \n",
            "Delta Received Packets                         NaN                NaN   \n",
            "Delta Received Bytes                           NaN                NaN   \n",
            "Delta Sent Bytes                               NaN                NaN   \n",
            "Delta Sent Packets                             NaN                NaN   \n",
            "Delta Port alive Duration (S)                  NaN                NaN   \n",
            "Connection Point                               NaN                NaN   \n",
            "Total Load/Rate                                NaN                NaN   \n",
            "Total Load/Latest                              NaN                NaN   \n",
            "Unknown Load/Rate                              NaN                NaN   \n",
            "Unknown Load/Latest                            NaN                NaN   \n",
            "Latest bytes counter                           NaN                NaN   \n",
            "Active Flow Entries                            NaN                NaN   \n",
            "Packets Looked Up                         0.042595                NaN   \n",
            "Packets Matched                           0.042590                1.0   \n",
            "\n",
            "                               Packets Matched  \n",
            "Received Packets                           NaN  \n",
            "Received Bytes                             NaN  \n",
            "Sent Bytes                                 NaN  \n",
            "Sent Packets                               NaN  \n",
            "Port alive Duration (S)                    NaN  \n",
            "Delta Received Packets                     NaN  \n",
            "Delta Received Bytes                       NaN  \n",
            "Delta Sent Bytes                           NaN  \n",
            "Delta Sent Packets                         NaN  \n",
            "Delta Port alive Duration (S)              NaN  \n",
            "Connection Point                           NaN  \n",
            "Total Load/Rate                            NaN  \n",
            "Total Load/Latest                          NaN  \n",
            "Unknown Load/Rate                          NaN  \n",
            "Unknown Load/Latest                        NaN  \n",
            "Latest bytes counter                       NaN  \n",
            "Active Flow Entries                        NaN  \n",
            "Packets Looked Up                          NaN  \n",
            "Packets Matched                            NaN  \n"
          ]
        }
      ],
      "source": [
        "lower_triangular_corr = dataset_corr.where(np.tril(np.ones(dataset_corr.shape),k=-1).astype(np.bool))\n",
        "print(lower_triangular_corr)"
      ]
    },
    {
      "cell_type": "code",
      "execution_count": null,
      "metadata": {
        "colab": {
          "base_uri": "https://localhost:8080/"
        },
        "id": "GYpSUQyFukCK",
        "outputId": "e1c2ec54-e653-4c97-aa86-8db00e647276"
      },
      "outputs": [
        {
          "output_type": "stream",
          "name": "stdout",
          "text": [
            "['Sent Packets', 'Total Load/Rate', 'Total Load/Latest', 'Unknown Load/Rate', 'Packets Looked Up']\n"
          ]
        }
      ],
      "source": [
        "#using 0.8 as the maximum for correlation\n",
        "corr_drop = [column for column in lower_triangular_corr.columns if any(lower_triangular_corr[column] > 0.8)]\n",
        "print(corr_drop)"
      ]
    },
    {
      "cell_type": "code",
      "execution_count": null,
      "metadata": {
        "id": "kwubjwTmvqiX"
      },
      "outputs": [],
      "source": [
        "dataset = dataset.drop(corr_drop, axis=1)\n"
      ]
    },
    {
      "cell_type": "code",
      "execution_count": null,
      "metadata": {
        "colab": {
          "base_uri": "https://localhost:8080/"
        },
        "id": "wdgOFQNSwIij",
        "outputId": "bbf53e91-f63d-49ff-a3ee-2dde1bc6411a"
      },
      "outputs": [
        {
          "output_type": "stream",
          "name": "stdout",
          "text": [
            "<class 'pandas.core.frame.DataFrame'>\n",
            "RangeIndex: 37411 entries, 0 to 37410\n",
            "Data columns (total 18 columns):\n",
            " #   Column                         Non-Null Count  Dtype \n",
            "---  ------                         --------------  ----- \n",
            " 0   Switch ID                      37411 non-null  object\n",
            " 1   Port Number                    37411 non-null  object\n",
            " 2   Received Packets               37411 non-null  int64 \n",
            " 3   Received Bytes                 37411 non-null  int64 \n",
            " 4   Sent Bytes                     37411 non-null  int64 \n",
            " 5   Port alive Duration (S)        37411 non-null  int64 \n",
            " 6   Delta Received Packets         37411 non-null  int64 \n",
            " 7   Delta Received Bytes           37411 non-null  int64 \n",
            " 8   Delta Sent Bytes               37411 non-null  int64 \n",
            " 9   Delta Sent Packets             37411 non-null  int64 \n",
            " 10  Delta Port alive Duration (S)  37411 non-null  int64 \n",
            " 11  Connection Point               37411 non-null  int64 \n",
            " 12  Unknown Load/Latest            37411 non-null  int64 \n",
            " 13  Latest bytes counter           37411 non-null  int64 \n",
            " 14  Active Flow Entries            37411 non-null  int64 \n",
            " 15  Packets Matched                37411 non-null  int64 \n",
            " 16  Label                          37411 non-null  object\n",
            " 17  Binary Label                   37411 non-null  object\n",
            "dtypes: int64(14), object(4)\n",
            "memory usage: 5.1+ MB\n"
          ]
        }
      ],
      "source": [
        "dataset.info()"
      ]
    },
    {
      "cell_type": "markdown",
      "metadata": {
        "id": "zVlByxf-yY48"
      },
      "source": [
        "## Splitting and Encoding the Features"
      ]
    },
    {
      "cell_type": "code",
      "execution_count": null,
      "metadata": {
        "id": "Ng7P8JhJyC4e"
      },
      "outputs": [],
      "source": [
        "X= dataset.drop(['Label', 'Binary Label'], axis=1)\n",
        "y = dataset['Label']\n",
        "X_train, X_test, y_train, y_test = train_test_split(X, y, test_size=0.4, random_state=1)"
      ]
    },
    {
      "cell_type": "code",
      "execution_count": null,
      "metadata": {
        "colab": {
          "base_uri": "https://localhost:8080/"
        },
        "id": "t9SoZrLWy2u2",
        "outputId": "24ef5029-0e86-4b14-d108-a957676e3a28"
      },
      "outputs": [
        {
          "output_type": "stream",
          "name": "stdout",
          "text": [
            "(22446, 16)\n",
            "(14965, 16)\n",
            "(22446,)\n",
            "(14965,)\n",
            "<class 'pandas.core.frame.DataFrame'>\n",
            "Int64Index: 22446 entries, 34697 to 33003\n",
            "Data columns (total 16 columns):\n",
            " #   Column                         Non-Null Count  Dtype \n",
            "---  ------                         --------------  ----- \n",
            " 0   Switch ID                      22446 non-null  object\n",
            " 1   Port Number                    22446 non-null  object\n",
            " 2   Received Packets               22446 non-null  int64 \n",
            " 3   Received Bytes                 22446 non-null  int64 \n",
            " 4   Sent Bytes                     22446 non-null  int64 \n",
            " 5   Port alive Duration (S)        22446 non-null  int64 \n",
            " 6   Delta Received Packets         22446 non-null  int64 \n",
            " 7   Delta Received Bytes           22446 non-null  int64 \n",
            " 8   Delta Sent Bytes               22446 non-null  int64 \n",
            " 9   Delta Sent Packets             22446 non-null  int64 \n",
            " 10  Delta Port alive Duration (S)  22446 non-null  int64 \n",
            " 11  Connection Point               22446 non-null  int64 \n",
            " 12  Unknown Load/Latest            22446 non-null  int64 \n",
            " 13  Latest bytes counter           22446 non-null  int64 \n",
            " 14  Active Flow Entries            22446 non-null  int64 \n",
            " 15  Packets Matched                22446 non-null  int64 \n",
            "dtypes: int64(14), object(2)\n",
            "memory usage: 2.9+ MB\n",
            "None\n"
          ]
        }
      ],
      "source": [
        "print(X_train.shape)\n",
        "print(X_test.shape)\n",
        "print(y_train.shape)\n",
        "print(y_test.shape)\n",
        "print(X_train.info())"
      ]
    },
    {
      "cell_type": "code",
      "execution_count": null,
      "metadata": {
        "id": "qkA89TzfzDl_"
      },
      "outputs": [],
      "source": [
        "#one hot encode Switch ID and Port Number\n",
        "categorical_features = ['Port Number', 'Switch ID']"
      ]
    },
    {
      "cell_type": "code",
      "execution_count": null,
      "metadata": {
        "id": "f8d8ba4YzTe4"
      },
      "outputs": [],
      "source": [
        "encoder = OneHotEncoder()\n",
        "\n",
        "train_end = encoder.fit_transform(X_train[categorical_features]).toarray()\n",
        "test_end = encoder.transform(X_test[categorical_features]).toarray()"
      ]
    },
    {
      "cell_type": "code",
      "execution_count": null,
      "metadata": {
        "id": "HFQxwt3_2yj1"
      },
      "outputs": [],
      "source": [
        "train_end = pd.DataFrame(train_end, index=X_train.index)\n",
        "test_end = pd.DataFrame(test_end, index=X_test.index)"
      ]
    },
    {
      "cell_type": "code",
      "source": [
        "r = X_train.drop(columns=categorical_features)\n",
        "g = X_test.drop(columns=categorical_features)"
      ],
      "metadata": {
        "id": "CuJcXePO-1FA"
      },
      "execution_count": null,
      "outputs": []
    },
    {
      "cell_type": "code",
      "execution_count": null,
      "metadata": {
        "id": "F2yuB9Gk3MVj"
      },
      "outputs": [],
      "source": [
        "X_train_encoded = pd.concat([train_end, r], axis = 1)\n",
        "X_test_encoded = pd.concat([test_end, g], axis=1)"
      ]
    },
    {
      "cell_type": "code",
      "execution_count": null,
      "metadata": {
        "colab": {
          "base_uri": "https://localhost:8080/"
        },
        "id": "geJaR-vD39sI",
        "outputId": "026abddb-97ef-4888-e502-45f3ffd1c9a5"
      },
      "outputs": [
        {
          "output_type": "stream",
          "name": "stdout",
          "text": [
            "(22446, 30)\n",
            "(14965, 30)\n"
          ]
        }
      ],
      "source": [
        "print(X_train_encoded.shape)\n",
        "print(X_test_encoded.shape)"
      ]
    },
    {
      "cell_type": "code",
      "execution_count": null,
      "metadata": {
        "id": "utznMS4c4Fev"
      },
      "outputs": [],
      "source": [
        "sc = StandardScaler()\n",
        "X_train_encoded = sc.fit_transform(X_train_encoded)\n",
        "X_test_encoded = sc.transform(X_test_encoded)"
      ]
    },
    {
      "cell_type": "code",
      "execution_count": null,
      "metadata": {
        "id": "VInqc--Q4Svs"
      },
      "outputs": [],
      "source": [
        "lbe = LabelEncoder()\n",
        "lbe.fit(y_train)\n",
        "y_train_encoded = lbe.transform(y_train)\n",
        "y_test_encoded = lbe.transform(y_test)"
      ]
    },
    {
      "cell_type": "code",
      "source": [],
      "metadata": {
        "id": "J3eP9j_cCLDz"
      },
      "execution_count": null,
      "outputs": []
    },
    {
      "cell_type": "code",
      "execution_count": null,
      "metadata": {
        "colab": {
          "base_uri": "https://localhost:8080/"
        },
        "id": "oGBAF6lC4Zo3",
        "outputId": "578da641-48d4-4b10-cac7-c4c458afebbf"
      },
      "outputs": [
        {
          "output_type": "stream",
          "name": "stdout",
          "text": [
            "(22446, 30) (14965, 30)\n",
            "(22446,) (14965,)\n"
          ]
        }
      ],
      "source": [
        "print(X_train_encoded.shape, X_test_encoded.shape)\n",
        "print(y_train_encoded.shape, y_test_encoded.shape)"
      ]
    },
    {
      "cell_type": "markdown",
      "metadata": {
        "id": "oHHpkJNN4na5"
      },
      "source": [
        "# Logistic Regression"
      ]
    },
    {
      "cell_type": "code",
      "execution_count": null,
      "metadata": {
        "id": "Fejn3-aM4rI5"
      },
      "outputs": [],
      "source": [
        "LR = LogisticRegression()"
      ]
    },
    {
      "cell_type": "code",
      "execution_count": null,
      "metadata": {
        "id": "XTN7fREw5SgI"
      },
      "outputs": [],
      "source": [
        "LR.fit(X_train_encoded,y_train_encoded)\n",
        "\n",
        "train_pred = LR.predict(X_train_encoded)\n",
        "test_pred = LR.predict(X_test_encoded)"
      ]
    },
    {
      "cell_type": "code",
      "execution_count": null,
      "metadata": {
        "colab": {
          "base_uri": "https://localhost:8080/"
        },
        "id": "7d7jvWXG5jZy",
        "outputId": "e5ad7423-72e2-4ed8-858f-8cf49130f941"
      },
      "outputs": [
        {
          "output_type": "stream",
          "name": "stdout",
          "text": [
            "Accuracy train score:  0.8462977813418872\n",
            "Accuracy test score:  0.8449716004009356\n",
            "Precision test score:  0.8449716004009356\n",
            "Recall test score:  0.8449716004009356\n",
            "F1-score test score:  0.8449716004009356\n"
          ]
        }
      ],
      "source": [
        "print(\"Accuracy train score: \", accuracy_score(y_train_encoded, train_pred))\n",
        "print(\"Accuracy test score: \", accuracy_score(y_test_encoded, test_pred))\n",
        "print(\"Precision test score: \", precision_score(y_test_encoded, test_pred, average = 'micro' ))\n",
        "print(\"Recall test score: \", recall_score(y_test_encoded, test_pred, average = 'micro' ))\n",
        "print(\"F1-score test score: \", f1_score(y_test_encoded, test_pred, average = 'micro' ))"
      ]
    },
    {
      "cell_type": "code",
      "execution_count": null,
      "metadata": {
        "colab": {
          "base_uri": "https://localhost:8080/"
        },
        "id": "RnerzqiI58Rk",
        "outputId": "864827ba-8009-4062-fa71-bf3c9f02a5fa"
      },
      "outputs": [
        {
          "output_type": "stream",
          "name": "stdout",
          "text": [
            "              precision    recall  f1-score   support\n",
            "\n",
            "           0       0.98      0.94      0.96      3329\n",
            "           1       0.97      0.96      0.96      2321\n",
            "           2       1.00      1.00      1.00      1454\n",
            "           3       0.67      0.49      0.57       402\n",
            "           4       0.87      0.61      0.72      3783\n",
            "           5       0.66      0.90      0.76      3676\n",
            "\n",
            "    accuracy                           0.84     14965\n",
            "   macro avg       0.86      0.82      0.83     14965\n",
            "weighted avg       0.86      0.84      0.84     14965\n",
            "\n"
          ]
        }
      ],
      "source": [
        "print(classification_report(y_test_encoded,test_pred))"
      ]
    },
    {
      "cell_type": "code",
      "execution_count": null,
      "metadata": {
        "colab": {
          "base_uri": "https://localhost:8080/",
          "height": 383
        },
        "id": "OsFNGCOx6Bs6",
        "outputId": "40c9991d-d41a-4f31-9996-f26b2262a654"
      },
      "outputs": [
        {
          "output_type": "stream",
          "name": "stdout",
          "text": [
            "[[3130    0    0    5   15  179]\n",
            " [   0 2224    0   90    0    7]\n",
            " [   0    0 1454    0    0    0]\n",
            " [  35   74    0  198   27   68]\n",
            " [   0    3    0    1 2321 1458]\n",
            " [  42    3    0    3  310 3318]]\n"
          ]
        },
        {
          "output_type": "display_data",
          "data": {
            "text/plain": [
              "<Figure size 432x288 with 2 Axes>"
            ],
            "image/png": "[encoded data removed]"
          },
          "metadata": {
            "needs_background": "light"
          }
        }
      ],
      "source": [
        "print(confusion_matrix(y_test_encoded,test_pred))\n",
        "cm = confusion_matrix(y_test_encoded,test_pred)\n",
        "disp = ConfusionMatrixDisplay(confusion_matrix = cm, display_labels = LR.classes_)\n",
        "disp.plot()\n",
        "plt.show()"
      ]
    },
    {
      "cell_type": "markdown",
      "metadata": {
        "id": "-PigcAoF6WLG"
      },
      "source": [
        "# k-Nearest Neighbours"
      ]
    },
    {
      "cell_type": "code",
      "execution_count": null,
      "metadata": {
        "id": "-Q0hBawK6f4A"
      },
      "outputs": [],
      "source": [
        "train_scores = []\n",
        "test_scores = []\n",
        "neighbours = range(1,15)\n",
        "from sklearn.neighbors import KNeighborsClassifier\n",
        "for neighbour in neighbours:\n",
        "    knn = KNeighborsClassifier(n_neighbors = neighbour)\n",
        "  # Fit the classifier on X_train, y_train\n",
        "    knn.fit(X_train_encoded, y_train_encoded)\n",
        "  # Make predictions on train data.  Store the values in train_pred variable.\n",
        "    train_pred = knn.predict(X_train_encoded)\n",
        "  # Make predictions on test data.  Store the values in test_pred variable.\n",
        "    test_pred = knn.predict(X_test_encoded)\n",
        "  # Find accuracy for train data. Hint - use accuracy_score method in sklearn.\n",
        "    train_accuracy = accuracy_score(y_train_encoded, train_pred)\n",
        "  # Find accuracy for test data. Hint - use accuracy_score method in sklearn.\n",
        "    test_accuracy = accuracy_score(y_test_encoded, test_pred)\n",
        "  # Append training accuracy in list train_scores.\n",
        "    train_scores.append(train_accuracy)\n",
        "  # Append test accuracy in list test-scores.\n",
        "    test_scores.append(test_accuracy)"
      ]
    },
    {
      "cell_type": "code",
      "execution_count": null,
      "metadata": {
        "colab": {
          "base_uri": "https://localhost:8080/"
        },
        "id": "yV5tYmLE8l9w",
        "outputId": "37aca152-c524-42b7-f26a-d759a99bfc09"
      },
      "outputs": [
        {
          "output_type": "execute_result",
          "data": {
            "text/plain": [
              "[1.0,\n",
              " 0.9393655885235677,\n",
              " 0.9295642876236301,\n",
              " 0.9128575247260091,\n",
              " 0.9045709703287891,\n",
              " 0.8947251180611244,\n",
              " 0.8865276663993584,\n",
              " 0.8767263654994208,\n",
              " 0.8699100062371915,\n",
              " 0.8652321126258576,\n",
              " 0.8589503697763521,\n",
              " 0.855029849416377,\n",
              " 0.8488372093023255,\n",
              " 0.8450948944132585]"
            ]
          },
          "metadata": {},
          "execution_count": 176
        }
      ],
      "source": [
        "train_scores"
      ]
    },
    {
      "cell_type": "code",
      "execution_count": null,
      "metadata": {
        "colab": {
          "base_uri": "https://localhost:8080/"
        },
        "id": "KIBYjZ7Q8s1i",
        "outputId": "31d4facb-7cb5-4bf6-a23b-1fef4a4035c1"
      },
      "outputs": [
        {
          "output_type": "execute_result",
          "data": {
            "text/plain": [
              "[0.8666889408620113,\n",
              " 0.8500501169395256,\n",
              " 0.8491814233210825,\n",
              " 0.8452388907450719,\n",
              " 0.8431673905780154,\n",
              " 0.8390243902439024,\n",
              " 0.8359505512863348,\n",
              " 0.8322753090544605,\n",
              " 0.831139325091881,\n",
              " 0.8280654861343134,\n",
              " 0.8247243568326095,\n",
              " 0.8219846308052121,\n",
              " 0.8199799532241898,\n",
              " 0.816839291680588]"
            ]
          },
          "metadata": {},
          "execution_count": 177
        }
      ],
      "source": [
        "test_scores"
      ]
    },
    {
      "cell_type": "code",
      "execution_count": null,
      "metadata": {
        "colab": {
          "base_uri": "https://localhost:8080/",
          "height": 295
        },
        "id": "ply759My8wJ_",
        "outputId": "552bf1dc-ebe5-490e-adad-3d0a6c8f04a0"
      },
      "outputs": [
        {
          "output_type": "display_data",
          "data": {
            "text/plain": [
              "<Figure size 432x288 with 1 Axes>"
            ],
            "image/png": "[encoded data removed]"
          },
          "metadata": {
            "needs_background": "light"
          }
        }
      ],
      "source": [
        "plt.title('k-NN Varying number of neighbors')\n",
        "#Code to plot neigbours vs train scores. \n",
        "plt.plot(neighbours, train_scores, label = 'Train accuracy')\n",
        "#code to plot neigbours vs test scores. \n",
        "plt.plot(neighbours, test_scores, label = 'Test accuracy')\n",
        "plt.legend()\n",
        "plt.xlabel('Number of neighbors')\n",
        "plt.ylabel('Accuracy')\n",
        "plt.show()"
      ]
    },
    {
      "cell_type": "code",
      "execution_count": null,
      "metadata": {
        "id": "n2Z44m-E84I4"
      },
      "outputs": [],
      "source": [
        "KNN = KNeighborsClassifier(n_neighbors=2)\n",
        "\n",
        "KNN.fit(X_train_encoded,y_train_encoded)\n",
        "\n",
        "train_pred = KNN.predict(X_train_encoded)\n",
        "test_pred = KNN.predict(X_test_encoded)"
      ]
    },
    {
      "cell_type": "code",
      "execution_count": null,
      "metadata": {
        "colab": {
          "base_uri": "https://localhost:8080/"
        },
        "id": "X_uD3l9h9MUA",
        "outputId": "017006f4-0fde-4ae8-f2ff-4f658b2ecb90"
      },
      "outputs": [
        {
          "output_type": "stream",
          "name": "stdout",
          "text": [
            "Accuracy train score:  0.9393655885235677\n",
            "Accuracy test score:  0.8500501169395256\n",
            "Precision test score:  0.8500501169395256\n",
            "Recall test score:  0.8500501169395256\n",
            "F-score test score:  0.8500501169395256\n"
          ]
        }
      ],
      "source": [
        "print(\"Accuracy train score: \", accuracy_score(y_train_encoded, train_pred))\n",
        "print(\"Accuracy test score: \", accuracy_score(y_test_encoded, test_pred))\n",
        "print(\"Precision test score: \", precision_score(y_test_encoded, test_pred, average = 'micro' ))\n",
        "print(\"Recall test score: \", recall_score(y_test_encoded, test_pred, average = 'micro' ))\n",
        "print(\"F-score test score: \", f1_score(y_test_encoded, test_pred, average = 'micro' ))"
      ]
    },
    {
      "cell_type": "code",
      "execution_count": null,
      "metadata": {
        "colab": {
          "base_uri": "https://localhost:8080/"
        },
        "id": "61XySss49V1Q",
        "outputId": "db6be996-e741-4b76-e431-fa6249848955"
      },
      "outputs": [
        {
          "output_type": "stream",
          "name": "stdout",
          "text": [
            "              precision    recall  f1-score   support\n",
            "\n",
            "           0       0.89      0.94      0.91      3329\n",
            "           1       0.94      0.94      0.94      2321\n",
            "           2       1.00      0.99      1.00      1454\n",
            "           3       0.62      0.59      0.60       402\n",
            "           4       0.75      0.87      0.80      3783\n",
            "           5       0.84      0.66      0.74      3676\n",
            "\n",
            "    accuracy                           0.85     14965\n",
            "   macro avg       0.84      0.83      0.83     14965\n",
            "weighted avg       0.85      0.85      0.85     14965\n",
            "\n"
          ]
        }
      ],
      "source": [
        "print(classification_report(y_test_encoded,test_pred))"
      ]
    },
    {
      "cell_type": "code",
      "execution_count": null,
      "metadata": {
        "colab": {
          "base_uri": "https://localhost:8080/",
          "height": 383
        },
        "id": "lZ8P8BWN9ZTy",
        "outputId": "78fc1230-8e2a-47a3-b18c-bd95814ce92b"
      },
      "outputs": [
        {
          "output_type": "stream",
          "name": "stdout",
          "text": [
            "[[3124   29    2   15   94   65]\n",
            " [  97 2189    0   13   15    7]\n",
            " [   3    2 1445    2    2    0]\n",
            " [  31   60    0  236   35   40]\n",
            " [  94   15    1   43 3287  343]\n",
            " [ 172   22    0   73  969 2440]]\n"
          ]
        },
        {
          "output_type": "display_data",
          "data": {
            "text/plain": [
              "<Figure size 432x288 with 2 Axes>"
            ],
            "image/png": "[encoded data removed]"
          },
          "metadata": {
            "needs_background": "light"
          }
        }
      ],
      "source": [
        "print(confusion_matrix(y_test_encoded,test_pred))\n",
        "cm = confusion_matrix(y_test_encoded,test_pred)\n",
        "disp = ConfusionMatrixDisplay(confusion_matrix = cm, display_labels = KNN.classes_)\n",
        "disp.plot()\n",
        "plt.show()"
      ]
    },
    {
      "cell_type": "markdown",
      "metadata": {
        "id": "mKyxgVhs_Ccn"
      },
      "source": [
        "# Support Vector Machines (SVM)"
      ]
    },
    {
      "cell_type": "code",
      "execution_count": null,
      "metadata": {
        "colab": {
          "base_uri": "https://localhost:8080/"
        },
        "id": "dQxXZ82d_H6I",
        "outputId": "d8279d25-0b83-4ac3-ae97-6057458ae426"
      },
      "outputs": [
        {
          "output_type": "stream",
          "name": "stdout",
          "text": [
            "[0.8452388907450719, 0.7973270965586369, 0.8251252923488139, 0.6449716004009355]\n"
          ]
        }
      ],
      "source": [
        "kernels = ['linear', 'poly', 'rbf', 'sigmoid']\n",
        "accuracy =[]\n",
        "\n",
        "for row in kernels:\n",
        "  SC = SVC(kernel = row)\n",
        "  SC.fit(X_train_encoded, y_train_encoded)\n",
        "  y_pred = SC.predict(X_test_encoded)\n",
        "  accuracy.append(accuracy_score(y_test_encoded, y_pred))\n",
        "\n",
        "print(accuracy)"
      ]
    },
    {
      "cell_type": "code",
      "source": [
        "plt.plot (kernels, accuracy)"
      ],
      "metadata": {
        "colab": {
          "base_uri": "https://localhost:8080/",
          "height": 282
        },
        "id": "FfaTtfgmD6gD",
        "outputId": "243372e1-16b5-41cf-a180-da49cb1217f0"
      },
      "execution_count": null,
      "outputs": [
        {
          "output_type": "execute_result",
          "data": {
            "text/plain": [
              "[<matplotlib.lines.Line2D at 0x7f8d7522cf70>]"
            ]
          },
          "metadata": {},
          "execution_count": 184
        },
        {
          "output_type": "display_data",
          "data": {
            "text/plain": [
              "<Figure size 432x288 with 1 Axes>"
            ],
            "image/png": "[encoded data removed]"
          },
          "metadata": {
            "needs_background": "light"
          }
        }
      ]
    },
    {
      "cell_type": "code",
      "source": [
        "svm = SVC(kernel='linear')\n",
        "\n",
        "svm.fit(X_train_encoded,y_train_encoded)\n",
        "\n",
        "train_pred = svm.predict(X_train_encoded)\n",
        "test_pred = svm.predict(X_test_encoded)"
      ],
      "metadata": {
        "id": "bhotJigvD7rm"
      },
      "execution_count": null,
      "outputs": []
    },
    {
      "cell_type": "code",
      "source": [
        "print(\"Accuracy train score: \", accuracy_score(y_train_encoded, train_pred))\n",
        "print(\"Accuracy test score: \", accuracy_score(y_test_encoded, test_pred))\n",
        "print(\"Precision test score: \", precision_score(y_test_encoded, test_pred, average = 'micro' ))\n",
        "print(\"Recall test score: \", recall_score(y_test_encoded, test_pred, average = 'micro' ))\n",
        "print(\"F-score test score: \", f1_score(y_test_encoded, test_pred, average = 'micro' ))"
      ],
      "metadata": {
        "colab": {
          "base_uri": "https://localhost:8080/"
        },
        "id": "g9ynH4eREd4v",
        "outputId": "9cf2adc0-b245-4531-fa9b-f2e657b3e2d3"
      },
      "execution_count": null,
      "outputs": [
        {
          "output_type": "stream",
          "name": "stdout",
          "text": [
            "Accuracy train score:  0.8494163770827764\n",
            "Accuracy test score:  0.8452388907450719\n",
            "Precision test score:  0.8452388907450719\n",
            "Recall test score:  0.8452388907450719\n",
            "F-score test score:  0.8452388907450719\n"
          ]
        }
      ]
    },
    {
      "cell_type": "code",
      "source": [
        "print(classification_report(y_test_encoded,test_pred))"
      ],
      "metadata": {
        "colab": {
          "base_uri": "https://localhost:8080/"
        },
        "id": "i05mMSLXEhwo",
        "outputId": "c5f03b3d-7b9f-4413-c956-073f674885b8"
      },
      "execution_count": null,
      "outputs": [
        {
          "output_type": "stream",
          "name": "stdout",
          "text": [
            "              precision    recall  f1-score   support\n",
            "\n",
            "           0       0.97      0.95      0.96      3329\n",
            "           1       0.97      0.97      0.97      2321\n",
            "           2       1.00      1.00      1.00      1454\n",
            "           3       0.75      0.48      0.59       402\n",
            "           4       0.97      0.53      0.69      3783\n",
            "           5       0.64      0.97      0.77      3676\n",
            "\n",
            "    accuracy                           0.85     14965\n",
            "   macro avg       0.88      0.82      0.83     14965\n",
            "weighted avg       0.88      0.85      0.84     14965\n",
            "\n"
          ]
        }
      ]
    },
    {
      "cell_type": "code",
      "source": [
        "print(confusion_matrix(y_test_encoded,test_pred))\n",
        "cm = confusion_matrix(y_test_encoded,test_pred)\n",
        "disp = ConfusionMatrixDisplay(confusion_matrix = cm, display_labels = svm.classes_)\n",
        "disp.plot()\n",
        "plt.show()"
      ],
      "metadata": {
        "colab": {
          "base_uri": "https://localhost:8080/",
          "height": 383
        },
        "id": "yDBbUosiEmaC",
        "outputId": "139a3146-50f6-4c17-f808-20d719b9bc55"
      },
      "execution_count": null,
      "outputs": [
        {
          "output_type": "stream",
          "name": "stdout",
          "text": [
            "[[3175    0    0    0    3  151]\n",
            " [   0 2248    0   61    0   12]\n",
            " [   0    0 1454    0    0    0]\n",
            " [  51   75    0  194    3   79]\n",
            " [   1    0    0    0 2012 1770]\n",
            " [  42    4    0    3   61 3566]]\n"
          ]
        },
        {
          "output_type": "display_data",
          "data": {
            "text/plain": [
              "<Figure size 432x288 with 2 Axes>"
            ],
            "image/png": "[encoded data removed]"
          },
          "metadata": {
            "needs_background": "light"
          }
        }
      ]
    },
    {
      "cell_type": "markdown",
      "metadata": {
        "id": "3TVjQcB_7nWB"
      },
      "source": [
        "# Decision Trees"
      ]
    },
    {
      "cell_type": "code",
      "execution_count": null,
      "metadata": {
        "colab": {
          "base_uri": "https://localhost:8080/"
        },
        "id": "ziHUckWQ7rQc",
        "outputId": "eba9ee81-bc40-406f-fa52-6e0116ecc48e"
      },
      "outputs": [
        {
          "output_type": "execute_result",
          "data": {
            "text/plain": [
              "DecisionTreeClassifier(max_depth=3, min_samples_leaf=5, random_state=0)"
            ]
          },
          "metadata": {},
          "execution_count": 189
        }
      ],
      "source": [
        "DT = DecisionTreeClassifier(criterion=\"gini\", random_state=0,max_depth=3, min_samples_leaf=5) \n",
        "DT.fit(X_train_encoded, y_train_encoded)"
      ]
    },
    {
      "cell_type": "code",
      "execution_count": null,
      "metadata": {
        "id": "XGzcZFWS8QwW"
      },
      "outputs": [],
      "source": [
        "train_pred = DT.predict(X_train_encoded)\n",
        "test_pred = DT.predict(X_test_encoded)"
      ]
    },
    {
      "cell_type": "code",
      "execution_count": null,
      "metadata": {
        "colab": {
          "base_uri": "https://localhost:8080/"
        },
        "id": "ZRJdc5bY8UFB",
        "outputId": "6aebf3db-8056-4b21-dae8-fe5a9dd4dc08"
      },
      "outputs": [
        {
          "output_type": "stream",
          "name": "stdout",
          "text": [
            "Accuracy train score:  0.7218212599126793\n",
            "Accuracy test score:  0.7107918476445039\n",
            "Precision test score:  0.7107918476445039\n",
            "Recall test score:  0.7107918476445039\n",
            "F-score test score:  0.7107918476445039\n"
          ]
        }
      ],
      "source": [
        "print(\"Accuracy train score: \", accuracy_score(y_train_encoded, train_pred))\n",
        "print(\"Accuracy test score: \", accuracy_score(y_test_encoded, test_pred))\n",
        "print(\"Precision test score: \", precision_score(y_test_encoded, test_pred, average = 'micro' ))\n",
        "print(\"Recall test score: \", recall_score(y_test_encoded, test_pred, average = 'micro' ))\n",
        "print(\"F-score test score: \", f1_score(y_test_encoded, test_pred, average = 'micro' ))"
      ]
    },
    {
      "cell_type": "code",
      "source": [
        "print(classification_report(y_test_encoded,test_pred))"
      ],
      "metadata": {
        "colab": {
          "base_uri": "https://localhost:8080/"
        },
        "id": "qi2bIkuFFsIq",
        "outputId": "3b93060a-455d-42f4-8a9d-6a2b880f161e"
      },
      "execution_count": null,
      "outputs": [
        {
          "output_type": "stream",
          "name": "stdout",
          "text": [
            "              precision    recall  f1-score   support\n",
            "\n",
            "           0       0.57      0.95      0.71      3329\n",
            "           1       0.00      0.00      0.00      2321\n",
            "           2       1.00      1.00      1.00      1454\n",
            "           3       0.00      0.00      0.00       402\n",
            "           4       0.94      0.64      0.76      3783\n",
            "           5       0.67      0.98      0.79      3676\n",
            "\n",
            "    accuracy                           0.71     14965\n",
            "   macro avg       0.53      0.59      0.54     14965\n",
            "weighted avg       0.62      0.71      0.64     14965\n",
            "\n"
          ]
        }
      ]
    },
    {
      "cell_type": "code",
      "execution_count": null,
      "metadata": {
        "colab": {
          "base_uri": "https://localhost:8080/",
          "height": 383
        },
        "id": "DmBEq6Im-6vm",
        "outputId": "a8d36533-ceb7-44a7-cd47-6467a427953b"
      },
      "outputs": [
        {
          "output_type": "stream",
          "name": "stdout",
          "text": [
            "[[3165    0    0    0    0  164]\n",
            " [2187    0    0    0   58   76]\n",
            " [   0    0 1454    0    0    0]\n",
            " [ 140    0    0    0   65  197]\n",
            " [   0    0    0    0 2433 1350]\n",
            " [  45    0    0    0   46 3585]]\n"
          ]
        },
        {
          "output_type": "display_data",
          "data": {
            "text/plain": [
              "<Figure size 432x288 with 2 Axes>"
            ],
            "image/png": "[encoded data removed]"
          },
          "metadata": {
            "needs_background": "light"
          }
        }
      ],
      "source": [
        "print(confusion_matrix(y_test_encoded,test_pred))\n",
        "cm = confusion_matrix(y_test_encoded,test_pred)\n",
        "disp = ConfusionMatrixDisplay(confusion_matrix = cm, display_labels = DT.classes_)\n",
        "disp.plot()\n",
        "plt.show()"
      ]
    },
    {
      "cell_type": "markdown",
      "source": [
        "# Random Forest"
      ],
      "metadata": {
        "id": "FB3Fb9WEE3oE"
      }
    },
    {
      "cell_type": "code",
      "source": [
        "RF = RandomForestClassifier(n_estimators=100, criterion='gini',  min_samples_split=2, min_samples_leaf=1)\n",
        "RF.fit(X_train_encoded, y_train_encoded)"
      ],
      "metadata": {
        "colab": {
          "base_uri": "https://localhost:8080/"
        },
        "id": "Tg6Ez1ATE8TI",
        "outputId": "7f0c4b74-fcfb-40dc-ac8e-dcf547a7d064"
      },
      "execution_count": null,
      "outputs": [
        {
          "output_type": "execute_result",
          "data": {
            "text/plain": [
              "RandomForestClassifier()"
            ]
          },
          "metadata": {},
          "execution_count": 194
        }
      ]
    },
    {
      "cell_type": "code",
      "source": [
        "train_pred = RF.predict(X_train_encoded)\n",
        "test_pred = RF.predict(X_test_encoded)"
      ],
      "metadata": {
        "id": "yt4s4jQZFZDY"
      },
      "execution_count": null,
      "outputs": []
    },
    {
      "cell_type": "code",
      "source": [
        "print(\"Accuracy train score: \", accuracy_score(y_train_encoded, train_pred))\n",
        "print(\"Accuracy test score: \", accuracy_score(y_test_encoded, test_pred))\n",
        "print(\"Precision test score: \", precision_score(y_test_encoded, test_pred, average = 'micro' ))\n",
        "print(\"Recall test score: \", recall_score(y_test_encoded, test_pred, average = 'micro' ))\n",
        "print(\"F-score test score: \", f1_score(y_test_encoded, test_pred, average = 'micro' ))"
      ],
      "metadata": {
        "colab": {
          "base_uri": "https://localhost:8080/"
        },
        "id": "9sQ5r5SuFgqG",
        "outputId": "0ea22556-ee4a-4c3d-94dc-62bd5de04080"
      },
      "execution_count": null,
      "outputs": [
        {
          "output_type": "stream",
          "name": "stdout",
          "text": [
            "Accuracy train score:  1.0\n",
            "Accuracy test score:  0.940327430671567\n",
            "Precision test score:  0.940327430671567\n",
            "Recall test score:  0.940327430671567\n",
            "F-score test score:  0.940327430671567\n"
          ]
        }
      ]
    },
    {
      "cell_type": "code",
      "source": [
        "print(classification_report(y_test_encoded,test_pred))"
      ],
      "metadata": {
        "colab": {
          "base_uri": "https://localhost:8080/"
        },
        "id": "2s9ZvpmAFjXL",
        "outputId": "a4f40aac-3da2-4bab-9a99-1916dbac6138"
      },
      "execution_count": null,
      "outputs": [
        {
          "output_type": "stream",
          "name": "stdout",
          "text": [
            "              precision    recall  f1-score   support\n",
            "\n",
            "           0       0.99      0.97      0.98      3329\n",
            "           1       0.99      0.97      0.98      2321\n",
            "           2       1.00      1.00      1.00      1454\n",
            "           3       0.98      0.70      0.82       402\n",
            "           4       0.90      0.91      0.91      3783\n",
            "           5       0.88      0.92      0.90      3676\n",
            "\n",
            "    accuracy                           0.94     14965\n",
            "   macro avg       0.96      0.91      0.93     14965\n",
            "weighted avg       0.94      0.94      0.94     14965\n",
            "\n"
          ]
        }
      ]
    },
    {
      "cell_type": "code",
      "source": [
        "print(confusion_matrix(y_test_encoded,test_pred))\n",
        "cm = confusion_matrix(y_test_encoded,test_pred)\n",
        "disp = ConfusionMatrixDisplay(confusion_matrix = cm, display_labels = DT.classes_)\n",
        "disp.plot()\n",
        "plt.show()"
      ],
      "metadata": {
        "colab": {
          "base_uri": "https://localhost:8080/",
          "height": 383
        },
        "id": "qLwF6fV1FvDX",
        "outputId": "96e2abc2-b5ca-4d6d-ac23-9f73c66de4c8"
      },
      "execution_count": null,
      "outputs": [
        {
          "output_type": "stream",
          "name": "stdout",
          "text": [
            "[[3228    0    0    0   35   66]\n",
            " [   7 2262    0    5   35   12]\n",
            " [   0    0 1454    0    0    0]\n",
            " [  24   21    0  281   37   39]\n",
            " [   0    0    0    0 3456  327]\n",
            " [  11    1    0    0  273 3391]]\n"
          ]
        },
        {
          "output_type": "display_data",
          "data": {
            "text/plain": [
              "<Figure size 432x288 with 2 Axes>"
            ],
            "image/png": "[encoded data removed]"
          },
          "metadata": {
            "needs_background": "light"
          }
        }
      ]
    },
    {
      "cell_type": "markdown",
      "source": [
        "# Result (Metrices Comparison)"
      ],
      "metadata": {
        "id": "ALHJ3rvUMZbi"
      }
    },
    {
      "cell_type": "markdown",
      "source": [
        "## Training Accuracy"
      ],
      "metadata": {
        "id": "YhJNUjydMwZl"
      }
    },
    {
      "cell_type": "code",
      "source": [
        "training_accuracy = [0.8462977813418872, 0.9393655885235677, 0.8494163770827764, 0.7218212599126793, 1.0]\n",
        "algorithms = ['LGR','KNN','SVM','DT','RF']\n",
        "plt.plot(algorithms, training_accuracy)\n",
        "plt.title('Graph of Training Accuracy of all Models')\n",
        "plt.xlabel('Algorithms')\n",
        "plt.ylabel('Accuracy')\n",
        "plt.show()"
      ],
      "metadata": {
        "colab": {
          "base_uri": "https://localhost:8080/",
          "height": 295
        },
        "id": "gA-3gZtrMhQQ",
        "outputId": "3fc3b123-d53c-47c4-f5e3-a50ac8a9abd0"
      },
      "execution_count": null,
      "outputs": [
        {
          "output_type": "display_data",
          "data": {
            "text/plain": [
              "<Figure size 432x288 with 1 Axes>"
            ],
            "image/png": "[encoded data removed]"
          },
          "metadata": {
            "needs_background": "light"
          }
        }
      ]
    },
    {
      "cell_type": "markdown",
      "source": [
        "##Test Metrices"
      ],
      "metadata": {
        "id": "JwLTNUARC5M0"
      }
    },
    {
      "cell_type": "markdown",
      "source": [
        "### Testing Accuracy "
      ],
      "metadata": {
        "id": "zYdUXLZCPkjb"
      }
    },
    {
      "cell_type": "code",
      "source": [
        "testing_accuracy = [0.8449716004009356, 0.8500501169395256, 0.8448859586600143, 0.7107918476445039, 0.940327430671567]\n",
        "algorithms = ['LGR','KNN','SVM','DT','RF']\n",
        "plt.plot(algorithms, testing_accuracy, color = 'red')\n",
        "plt.title('Graph of Testing Accuracy of all Models')\n",
        "plt.xlabel('Algorithms')\n",
        "plt.ylabel('Accuracy')\n",
        "plt.show()"
      ],
      "metadata": {
        "colab": {
          "base_uri": "https://localhost:8080/",
          "height": 295
        },
        "id": "fcgqpBr8Pq3t",
        "outputId": "295342e0-4b83-4ed0-92b1-7ae4dd92b1c9"
      },
      "execution_count": null,
      "outputs": [
        {
          "output_type": "display_data",
          "data": {
            "text/plain": [
              "<Figure size 432x288 with 1 Axes>"
            ],
            "image/png": "[encoded data removed]"
          },
          "metadata": {
            "needs_background": "light"
          }
        }
      ]
    },
    {
      "cell_type": "markdown",
      "source": [
        "### Testing Precision Graph\n",
        " "
      ],
      "metadata": {
        "id": "pLZtYwRFCkMP"
      }
    },
    {
      "cell_type": "code",
      "source": [
        "testing_precision = [0.8449716004009356, 0.8500501169395256, 0.8452388907450719, 0.7107918476445039, 0.940327430671567]\n",
        "algorithms = ['LGR','KNN','SVM','DT','RF']\n",
        "plt.plot(algorithms, testing_precision, color = 'purple')\n",
        "plt.title('Graph of Testing Precision of all Models')\n",
        "plt.xlabel('Algorithms')\n",
        "plt.ylabel('Precision')\n",
        "plt.show()"
      ],
      "metadata": {
        "colab": {
          "base_uri": "https://localhost:8080/",
          "height": 295
        },
        "id": "hZO2OoxdC0t9",
        "outputId": "a980b2f2-4773-499d-ddd4-2385911ceb18"
      },
      "execution_count": null,
      "outputs": [
        {
          "output_type": "display_data",
          "data": {
            "text/plain": [
              "<Figure size 432x288 with 1 Axes>"
            ],
            "image/png": "[encoded data removed]"
          },
          "metadata": {
            "needs_background": "light"
          }
        }
      ]
    },
    {
      "cell_type": "markdown",
      "source": [
        "### Testing Recall\n"
      ],
      "metadata": {
        "id": "ixtXkU2vCpI5"
      }
    },
    {
      "cell_type": "code",
      "source": [
        "testing_recall = [0.8449716004009356, 0.8500501169395256, 0.8452388907450719, 0.7107918476445039, 0.940327430671567]\n",
        "algorithms = ['LGR','KNN','SVM','DT','RF']\n",
        "plt.plot(algorithms, testing_recall, color = 'green')\n",
        "plt.title('Graph of Testing Recall of all Models')\n",
        "plt.xlabel('Algorithms')\n",
        "plt.ylabel('Recall')\n",
        "plt.show()"
      ],
      "metadata": {
        "colab": {
          "base_uri": "https://localhost:8080/",
          "height": 295
        },
        "id": "6oLkr8H9GFqp",
        "outputId": "5ad5f69b-efb2-41e4-9f23-ce9d51c543a5"
      },
      "execution_count": null,
      "outputs": [
        {
          "output_type": "display_data",
          "data": {
            "text/plain": [
              "<Figure size 432x288 with 1 Axes>"
            ],
            "image/png": "[encoded data removed]"
          },
          "metadata": {
            "needs_background": "light"
          }
        }
      ]
    },
    {
      "cell_type": "markdown",
      "source": [
        "### Testing f1 score\n"
      ],
      "metadata": {
        "id": "F7XYJI4oCs49"
      }
    },
    {
      "cell_type": "code",
      "source": [
        "testing_f1_score= [0.8449716004009356, 0.8500501169395256, 0.8452388907450719, 0.7107918476445039, 0.940327430671567]\n",
        "algorithms = ['LGR','KNN','SVM','DT','RF']\n",
        "plt.plot(algorithms, testing_f1_score, color = 'blue')\n",
        "plt.title('Graph of Testing F1-Score of all Models')\n",
        "plt.xlabel('Algorithms')\n",
        "plt.ylabel('F1-score')\n",
        "plt.show()\n",
        "\n",
        "##Based on the graphs oif the metrices plotted( accuracy, f11score, precision, recall), Random forest gave the best values for all the metrices, hence RF was chosen as the final model"
      ],
      "metadata": {
        "colab": {
          "base_uri": "https://localhost:8080/",
          "height": 295
        },
        "id": "wnBOHEroGUeD",
        "outputId": "210aa0a6-e6ab-459b-b067-6a65f0ab6fc0"
      },
      "execution_count": null,
      "outputs": [
        {
          "output_type": "display_data",
          "data": {
            "text/plain": [
              "<Figure size 432x288 with 1 Axes>"
            ],
            "image/png": "[encoded data removed]"
          },
          "metadata": {
            "needs_background": "light"
          }
        }
      ]
    },
    {
      "cell_type": "markdown",
      "source": [
        "#Final model - Random Forest\n"
      ],
      "metadata": {
        "id": "EvEiXjAcA3YE"
      }
    },
    {
      "cell_type": "code",
      "source": [
        "RF = RandomForestClassifier(n_estimators=100, criterion='gini',  min_samples_split=2, min_samples_leaf=1)\n",
        "RF.fit(X_train_encoded, y_train_encoded)\n",
        "train_pred = RF.predict(X_train_encoded)\n",
        "test_pred = RF.predict(X_test_encoded)\n",
        "print(\"Accuracy train score: \", accuracy_score(y_train_encoded, train_pred))\n",
        "print(\"Accuracy test score: \", accuracy_score(y_test_encoded, test_pred))\n",
        "print(\"Precision test score: \", precision_score(y_test_encoded, test_pred, average = 'micro' ))\n",
        "print(\"Recall test score: \", recall_score(y_test_encoded, test_pred, average = 'micro' ))\n",
        "print(\"F-score test score: \", f1_score(y_test_encoded, test_pred, average = 'micro' ))\n",
        "print(classification_report(y_test_encoded,test_pred))\n",
        "print(confusion_matrix(y_test_encoded,test_pred))\n",
        "cm = confusion_matrix(y_test_encoded,test_pred)\n",
        "disp = ConfusionMatrixDisplay(confusion_matrix = cm, display_labels = DT.classes_)\n",
        "disp.plot()\n",
        "plt.show()"
      ],
      "metadata": {
        "colab": {
          "base_uri": "https://localhost:8080/",
          "height": 696
        },
        "id": "kjg5djxZBBDh",
        "outputId": "b0f86508-0365-42f0-a875-a7d57d724188"
      },
      "execution_count": null,
      "outputs": [
        {
          "output_type": "stream",
          "name": "stdout",
          "text": [
            "Accuracy train score:  1.0\n",
            "Accuracy test score:  0.9385232208486468\n",
            "Precision test score:  0.9385232208486468\n",
            "Recall test score:  0.9385232208486468\n",
            "F-score test score:  0.9385232208486468\n",
            "              precision    recall  f1-score   support\n",
            "\n",
            "           0       0.99      0.97      0.98      3329\n",
            "           1       0.99      0.97      0.98      2321\n",
            "           2       1.00      1.00      1.00      1454\n",
            "           3       0.98      0.70      0.82       402\n",
            "           4       0.90      0.91      0.90      3783\n",
            "           5       0.88      0.92      0.90      3676\n",
            "\n",
            "    accuracy                           0.94     14965\n",
            "   macro avg       0.96      0.91      0.93     14965\n",
            "weighted avg       0.94      0.94      0.94     14965\n",
            "\n",
            "[[3228    0    0    0   36   65]\n",
            " [   9 2260    0    5   34   13]\n",
            " [   0    0 1454    0    0    0]\n",
            " [  27   16    0  280   37   42]\n",
            " [   0    0    0    0 3448  335]\n",
            " [  11    1    0    0  289 3375]]\n"
          ]
        },
        {
          "output_type": "display_data",
          "data": {
            "text/plain": [
              "<Figure size 432x288 with 2 Axes>"
            ],
            "image/png": "[encoded data removed]"
          },
          "metadata": {
            "needs_background": "light"
          }
        }
      ]
    },
    {
      "cell_type": "code",
      "source": [
        "print('Accuracy of attack types based on Random Forest: ', cm.diagonal()/cm.sum(axis=1))"
      ],
      "metadata": {
        "colab": {
          "base_uri": "https://localhost:8080/"
        },
        "id": "-PYRvxY4rtGH",
        "outputId": "798bb1d4-5083-46cf-cd5c-11ed6ad7d9d9"
      },
      "execution_count": null,
      "outputs": [
        {
          "output_type": "stream",
          "name": "stdout",
          "text": [
            "Accuracy of attack types based on Random Forest:  [0.96966056 0.97371822 1.         0.69651741 0.91144594 0.91811752]\n"
          ]
        }
      ]
    },
    {
      "cell_type": "code",
      "source": [
        "class_accuracy = cm.diagonal()/cm.sum(axis=1)\n",
        "classes = lbe.inverse_transform([0, 1, 2,3,4,5])\n",
        "plt.plot(classes, class_accuracy, color = 'red')\n",
        "plt.title('Graph of the Random Forest Accuracy on all Attacks')\n",
        "plt.xlabel('Attack Types')\n",
        "plt.ylabel('Accuracy')\n",
        "plt.show()\n",
        "\n",
        "##Based on the graphs of the accuracy plotted for individual classes, class 'Normal' has the highest accuracy which means of the 1454 samples of class 'Normal' in the dataset,  all were classified correctly, i.e 100%.\n",
        "#similarly, class 'overflow' had the lowest accuracy, has only 280 of the total 402 samples belonging to class overflow were predicted accurately, hence giving accuracy of 69%"
      ],
      "metadata": {
        "colab": {
          "base_uri": "https://localhost:8080/",
          "height": 295
        },
        "id": "OsbVTNl7G3Wm",
        "outputId": "ae260a8a-6756-41ee-8f1f-5babe4d861fa"
      },
      "execution_count": null,
      "outputs": [
        {
          "output_type": "display_data",
          "data": {
            "text/plain": [
              "<Figure size 432x288 with 1 Axes>"
            ],
            "image/png": "[encoded data removed]"
          },
          "metadata": {
            "needs_background": "light"
          }
        }
      ]
    },
    {
      "cell_type": "code",
      "source": [
        "print(lbe.inverse_transform([0, 1, 2,3,4,5]))"
      ],
      "metadata": {
        "colab": {
          "base_uri": "https://localhost:8080/"
        },
        "id": "Js4uI_TOCbjF",
        "outputId": "93a7a68d-763c-4198-8681-abbe78ff4ee8"
      },
      "execution_count": null,
      "outputs": [
        {
          "output_type": "stream",
          "name": "stdout",
          "text": [
            "['Blackhole' 'Diversion' 'Normal' 'Overflow' 'PortScan' 'TCP-SYN']\n"
          ]
        }
      ]
    }
  ],
  "metadata": {
    "colab": {
      "provenance": [],
      "authorship_tag": "ABX9TyNUFwPu7RtW28ZI8+RcD/yh",
      "include_colab_link": true
    },
    "kernelspec": {
      "display_name": "Python 3",
      "name": "python3"
    },
    "language_info": {
      "name": "python"
    }
  },
  "nbformat": 4,
  "nbformat_minor": 0
}